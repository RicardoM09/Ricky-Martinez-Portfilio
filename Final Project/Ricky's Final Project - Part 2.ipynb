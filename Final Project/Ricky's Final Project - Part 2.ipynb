{
 "cells": [
  {
   "cell_type": "markdown",
   "metadata": {
    "collapsed": true
   },
   "source": [
    "# Ricky's Final Project - Part 2"
   ]
  },
  {
   "cell_type": "markdown",
   "metadata": {
    "collapsed": true
   },
   "source": [
    "### Pokedex Upgrade - Predicting Catch Rates of Unknown Pokemon"
   ]
  },
  {
   "cell_type": "markdown",
   "metadata": {},
   "source": [
    "**1) Problem and Hypothesis**"
   ]
  },
  {
   "cell_type": "markdown",
   "metadata": {},
   "source": [
    "**Problem Statement**\n",
    "\n",
    "Every year since 1999 thousands of young aspiring Pokemon masters leave their homes in an effort to \"catch em all\" with nothing more than the clothes on their back and a Pokedex. However, as time passes there seems to be an ever growing number of species. It can daunting to encounter an unknown species for the first time. This project explores using predictive models to help a Pokedex classify unknown Pokemon and predict the probability of catching this new creature. As a further step, can this new species be classified as a \"Legenday\" type. "
   ]
  },
  {
   "cell_type": "markdown",
   "metadata": {},
   "source": [
    "**How does this tie into machine learning?**\n",
    "\n",
    "There are quite a few machine learning methods that can be used on this data. To first predict a Pokemon's catch rate we can implement a multivariate linear regression to get a discrete result. To then predict if a Pokemon is legendary type we can convert a boolean feature to binary and run a logistic regression. Both will require feature selection methods to reduce the number of variables that come into play. \n",
    "\n",
    "Additionaly, the Pokemon universe does a great job of classifying species by color, body type, attribute type, etc. It would be interesting to implement clustering techniques to identify any new types of classifications that we can begin to group Pokemon by outside of the existing attributes. "
   ]
  },
  {
   "cell_type": "markdown",
   "metadata": {},
   "source": [
    "**What do you think will have the most impact in predicting the value you are interested in solving for?**\n",
    "\n",
    "I believe the **Total** battle points features will play a large factor in predicting the **Catch_Rate**. I imagine there to be a negative relationship; where as strength increases the catch rate will decrease. "
   ]
  },
  {
   "cell_type": "markdown",
   "metadata": {},
   "source": [
    "**2) Data Set Details**"
   ]
  },
  {
   "cell_type": "markdown",
   "metadata": {},
   "source": [
    "The data set was compiled on kaggle.com -> https://www.kaggle.com/abcsds/pokemon using the below sources from the video games series:\n",
    "\n",
    "* pokemon.com\n",
    "* pokemondb\n",
    "* bulbapedia"
   ]
  },
  {
   "cell_type": "markdown",
   "metadata": {},
   "source": [
    "The data set includes 21 variables for each of the 721 Pokemon.\n",
    "\n",
    "**Data Dictionary**\n",
    "\n",
    "* Number = Pokémon ID in the Pokédex (integer)\n",
    "* Name = Name of the Pokémon (string)\n",
    "* Type_1 = Primary type (string)\n",
    "* Type_2 = Second type, in case the Pokémon has it (string)\n",
    "* Total = Sum of all the base stats (Health Points, Attack, Defense, Special Attack, Special Defense, and Speed) (integer)\n",
    "* HP = Base Health Points (integer)\n",
    "* Attack = Base Attack (integer)\n",
    "* Defense = Base Defense (integer)\n",
    "* Sp_Atk = Base Special Attack (integer)\n",
    "* Sp_Def = Base Special Defense (integer)\n",
    "* Speed = Base Speed (integer)\n",
    "* Generation = Number of the generation when the Pokémon was introduced (integer)\n",
    "* isLegendary = Indicates whether the Pokémon is Legendary or not (boolean)\n",
    "* Color = Color of the Pokémon according to the Pokédex (string)\n",
    "* hasGender = Indicates if the Pokémon can be classified as female or male (boolean)\n",
    "* Pr_male = In case the Pokémon has Gender, the probability of its being male (float)\n",
    "* Egg_Group_1 = Egg Group of the Pokémon (string)\n",
    "* Egg_Group_2 = Second Egg Group of the Pokémon, in case it has two (string)\n",
    "* hasMegaEvolution = Indicates whether the Pokémon is able to Mega-evolve or not (boolean)\n",
    "* Height_m = Height of the Pokémon, in meters (float)\n",
    "* Weight_kg = Weight of the Pokémon, in kilograms (float)\n",
    "* Catch_Rate = Catch Rate (integer)\n",
    "* Body_Style = Body Style of the Pokémon according to the Pokédex (string)\n"
   ]
  },
  {
   "cell_type": "code",
   "execution_count": 54,
   "metadata": {
    "collapsed": true
   },
   "outputs": [],
   "source": [
    "import os\n",
    "import pandas as pd\n",
    "import numpy as np\n",
    "import matplotlib.pyplot as plt\n",
    "import seaborn as sns\n",
    "import statsmodels.api as sm\n",
    "\n",
    "pd.set_option('display.max_rows', 10)\n",
    "\n",
    "%matplotlib inline\n",
    "plt.style.use('ggplot')"
   ]
  },
  {
   "cell_type": "code",
   "execution_count": 55,
   "metadata": {
    "collapsed": false
   },
   "outputs": [
    {
     "data": {
      "text/html": [
       "<div>\n",
       "<table border=\"1\" class=\"dataframe\">\n",
       "  <thead>\n",
       "    <tr style=\"text-align: right;\">\n",
       "      <th></th>\n",
       "      <th>Number</th>\n",
       "      <th>Name</th>\n",
       "      <th>Type_1</th>\n",
       "      <th>Type_2</th>\n",
       "      <th>Total</th>\n",
       "      <th>HP</th>\n",
       "      <th>Attack</th>\n",
       "      <th>Defense</th>\n",
       "      <th>Sp_Atk</th>\n",
       "      <th>Sp_Def</th>\n",
       "      <th>...</th>\n",
       "      <th>Color</th>\n",
       "      <th>hasGender</th>\n",
       "      <th>Pr_Male</th>\n",
       "      <th>Egg_Group_1</th>\n",
       "      <th>Egg_Group_2</th>\n",
       "      <th>hasMegaEvolution</th>\n",
       "      <th>Height_m</th>\n",
       "      <th>Weight_kg</th>\n",
       "      <th>Catch_Rate</th>\n",
       "      <th>Body_Style</th>\n",
       "    </tr>\n",
       "  </thead>\n",
       "  <tbody>\n",
       "    <tr>\n",
       "      <th>0</th>\n",
       "      <td>1</td>\n",
       "      <td>Bulbasaur</td>\n",
       "      <td>Grass</td>\n",
       "      <td>Poison</td>\n",
       "      <td>318</td>\n",
       "      <td>45</td>\n",
       "      <td>49</td>\n",
       "      <td>49</td>\n",
       "      <td>65</td>\n",
       "      <td>65</td>\n",
       "      <td>...</td>\n",
       "      <td>Green</td>\n",
       "      <td>True</td>\n",
       "      <td>0.875</td>\n",
       "      <td>Monster</td>\n",
       "      <td>Grass</td>\n",
       "      <td>False</td>\n",
       "      <td>0.71</td>\n",
       "      <td>6.9</td>\n",
       "      <td>45</td>\n",
       "      <td>quadruped</td>\n",
       "    </tr>\n",
       "    <tr>\n",
       "      <th>1</th>\n",
       "      <td>2</td>\n",
       "      <td>Ivysaur</td>\n",
       "      <td>Grass</td>\n",
       "      <td>Poison</td>\n",
       "      <td>405</td>\n",
       "      <td>60</td>\n",
       "      <td>62</td>\n",
       "      <td>63</td>\n",
       "      <td>80</td>\n",
       "      <td>80</td>\n",
       "      <td>...</td>\n",
       "      <td>Green</td>\n",
       "      <td>True</td>\n",
       "      <td>0.875</td>\n",
       "      <td>Monster</td>\n",
       "      <td>Grass</td>\n",
       "      <td>False</td>\n",
       "      <td>0.99</td>\n",
       "      <td>13.0</td>\n",
       "      <td>45</td>\n",
       "      <td>quadruped</td>\n",
       "    </tr>\n",
       "    <tr>\n",
       "      <th>2</th>\n",
       "      <td>3</td>\n",
       "      <td>Venusaur</td>\n",
       "      <td>Grass</td>\n",
       "      <td>Poison</td>\n",
       "      <td>525</td>\n",
       "      <td>80</td>\n",
       "      <td>82</td>\n",
       "      <td>83</td>\n",
       "      <td>100</td>\n",
       "      <td>100</td>\n",
       "      <td>...</td>\n",
       "      <td>Green</td>\n",
       "      <td>True</td>\n",
       "      <td>0.875</td>\n",
       "      <td>Monster</td>\n",
       "      <td>Grass</td>\n",
       "      <td>True</td>\n",
       "      <td>2.01</td>\n",
       "      <td>100.0</td>\n",
       "      <td>45</td>\n",
       "      <td>quadruped</td>\n",
       "    </tr>\n",
       "    <tr>\n",
       "      <th>3</th>\n",
       "      <td>4</td>\n",
       "      <td>Charmander</td>\n",
       "      <td>Fire</td>\n",
       "      <td>NaN</td>\n",
       "      <td>309</td>\n",
       "      <td>39</td>\n",
       "      <td>52</td>\n",
       "      <td>43</td>\n",
       "      <td>60</td>\n",
       "      <td>50</td>\n",
       "      <td>...</td>\n",
       "      <td>Red</td>\n",
       "      <td>True</td>\n",
       "      <td>0.875</td>\n",
       "      <td>Monster</td>\n",
       "      <td>Dragon</td>\n",
       "      <td>False</td>\n",
       "      <td>0.61</td>\n",
       "      <td>8.5</td>\n",
       "      <td>45</td>\n",
       "      <td>bipedal_tailed</td>\n",
       "    </tr>\n",
       "    <tr>\n",
       "      <th>4</th>\n",
       "      <td>5</td>\n",
       "      <td>Charmeleon</td>\n",
       "      <td>Fire</td>\n",
       "      <td>NaN</td>\n",
       "      <td>405</td>\n",
       "      <td>58</td>\n",
       "      <td>64</td>\n",
       "      <td>58</td>\n",
       "      <td>80</td>\n",
       "      <td>65</td>\n",
       "      <td>...</td>\n",
       "      <td>Red</td>\n",
       "      <td>True</td>\n",
       "      <td>0.875</td>\n",
       "      <td>Monster</td>\n",
       "      <td>Dragon</td>\n",
       "      <td>False</td>\n",
       "      <td>1.09</td>\n",
       "      <td>19.0</td>\n",
       "      <td>45</td>\n",
       "      <td>bipedal_tailed</td>\n",
       "    </tr>\n",
       "  </tbody>\n",
       "</table>\n",
       "<p>5 rows × 23 columns</p>\n",
       "</div>"
      ],
      "text/plain": [
       "   Number        Name Type_1  Type_2  Total  HP  Attack  Defense  Sp_Atk  \\\n",
       "0       1   Bulbasaur  Grass  Poison    318  45      49       49      65   \n",
       "1       2     Ivysaur  Grass  Poison    405  60      62       63      80   \n",
       "2       3    Venusaur  Grass  Poison    525  80      82       83     100   \n",
       "3       4  Charmander   Fire     NaN    309  39      52       43      60   \n",
       "4       5  Charmeleon   Fire     NaN    405  58      64       58      80   \n",
       "\n",
       "   Sp_Def       ...        Color  hasGender Pr_Male Egg_Group_1 Egg_Group_2  \\\n",
       "0      65       ...        Green       True   0.875     Monster       Grass   \n",
       "1      80       ...        Green       True   0.875     Monster       Grass   \n",
       "2     100       ...        Green       True   0.875     Monster       Grass   \n",
       "3      50       ...          Red       True   0.875     Monster      Dragon   \n",
       "4      65       ...          Red       True   0.875     Monster      Dragon   \n",
       "\n",
       "   hasMegaEvolution Height_m Weight_kg Catch_Rate      Body_Style  \n",
       "0             False     0.71       6.9         45       quadruped  \n",
       "1             False     0.99      13.0         45       quadruped  \n",
       "2              True     2.01     100.0         45       quadruped  \n",
       "3             False     0.61       8.5         45  bipedal_tailed  \n",
       "4             False     1.09      19.0         45  bipedal_tailed  \n",
       "\n",
       "[5 rows x 23 columns]"
      ]
     },
     "execution_count": 55,
     "metadata": {},
     "output_type": "execute_result"
    }
   ],
   "source": [
    "poke_data = pd.read_csv(os.path.join('.', 'pokemon_stats_data.csv'))\n",
    "\n",
    "poke_data.head()"
   ]
  },
  {
   "cell_type": "code",
   "execution_count": 56,
   "metadata": {
    "collapsed": false
   },
   "outputs": [
    {
     "name": "stdout",
     "output_type": "stream",
     "text": [
      "<class 'pandas.core.frame.DataFrame'>\n",
      "RangeIndex: 721 entries, 0 to 720\n",
      "Data columns (total 23 columns):\n",
      "Number              721 non-null int64\n",
      "Name                721 non-null object\n",
      "Type_1              721 non-null object\n",
      "Type_2              350 non-null object\n",
      "Total               721 non-null int64\n",
      "HP                  721 non-null int64\n",
      "Attack              721 non-null int64\n",
      "Defense             721 non-null int64\n",
      "Sp_Atk              721 non-null int64\n",
      "Sp_Def              721 non-null int64\n",
      "Speed               721 non-null int64\n",
      "Generation          721 non-null int64\n",
      "isLegendary         721 non-null bool\n",
      "Color               721 non-null object\n",
      "hasGender           721 non-null bool\n",
      "Pr_Male             644 non-null float64\n",
      "Egg_Group_1         721 non-null object\n",
      "Egg_Group_2         191 non-null object\n",
      "hasMegaEvolution    721 non-null bool\n",
      "Height_m            721 non-null float64\n",
      "Weight_kg           721 non-null float64\n",
      "Catch_Rate          721 non-null int64\n",
      "Body_Style          721 non-null object\n",
      "dtypes: bool(3), float64(3), int64(10), object(7)\n",
      "memory usage: 114.8+ KB\n"
     ]
    }
   ],
   "source": [
    "poke_data.info()"
   ]
  },
  {
   "cell_type": "markdown",
   "metadata": {
    "collapsed": true
   },
   "source": [
    "**3) Domain Knowledge**"
   ]
  },
  {
   "cell_type": "markdown",
   "metadata": {},
   "source": [
    "**Feature Creation**\n",
    "\n",
    "My domain knowledge spans back to roughly only the first generation of the Pokemon series. Fortunately, much hasn't changed since then. This will allow me to use the existing information to create some additional features to potentially improve performance on my models. In addition, to making sense of existing features and patterns.\n",
    "\n",
    "* Sub_type = binary feature that indicates if a Pokemon has a second attribute type different than it's primary\n",
    "* Offensive_Power = continuous feature (sum of **Attack**, **Sp_Attack**, **Speed**)\n",
    "* Defensive_Power = continuous feature (sum of **HP**, **SP_Defense**, **Defense**)\n",
    "\n",
    "**Existing Work**\n",
    "\n",
    "On Kaggle there is some work previously done exploring the battle metrics and basic analysis around them. Combing through that published kernel I concluded that looking at battle metrics alone wouldn't be the best indicator of a Pokemon's attribute type. This helped me reframe where I wanted to focus my effort in terms of creating a predictive model. \n",
    "\n"
   ]
  },
  {
   "cell_type": "markdown",
   "metadata": {
    "collapsed": true
   },
   "source": [
    "**4) Project Concerns**"
   ]
  },
  {
   "cell_type": "markdown",
   "metadata": {},
   "source": [
    "**Risks**\n",
    "\n",
    "One concern I have is the low number of observations and wide range of features to select from. I fear not having enough observations to train my data set and running into overfitting my model; taking away its ability to generalize future entries.\n",
    "\n",
    "Additionally, only 5% of the entire Pokemon universe (721 observations) catergorizes itself as a legenday type. Will this impact the models ability to predict the second task of identifying a legendary type. \n",
    "\n",
    "**Finding the best way to eliminate redundant features**\n",
    "\n",
    "Some of the features might share a high correlation. An example would be that the **Total** feature encapsulates all other battle metrics. Intuitively, I can elimate a few features that I don't think will play much role in my model but looking at the data I am not sure the best technique to eliminate redundant features. I plan on exploring lasso, random forest's importance score and PCA techniques to maximize predictive power.\n",
    "\n",
    "**Data Assumptions**\n",
    "\n",
    "There are a few missing values under the **Type 2** feature. Instead of removing those missing values I will transform their Sub attribute type to match their Primary attribute; since they are a single type Pokemon. \n",
    "\n",
    "It appears that the battle points are already set to have similar scales between them. However, I will need to create a standard scale across some of the other features that will be introduced into model such as height and weight. \n",
    "\n"
   ]
  },
  {
   "cell_type": "markdown",
   "metadata": {},
   "source": [
    "**5) Outcome**"
   ]
  },
  {
   "cell_type": "markdown",
   "metadata": {},
   "source": [
    "**Expected Output**\n",
    "\n",
    "After fitting, training and testing the model. I expect the final product to be a single line output stating the catch rate. \n",
    "\n",
    "As my target audience I would expect the catch rate to be converted into a probability as that would be more inuitive than just a catch rate scale used by the current Pokedex. \n",
    "\n",
    "**Defining Sucess** \n",
    "\n",
    "The model itself does not need to be overly complex. I am hoping for a 70% accuracy in the testing stage. \n",
    "\n",
    "**What gain do you expect from your most important features?**\n",
    "\n",
    "I believe for each model there will be some features that have a heavier weight than others. For example, the majority of Legendary Pokemen are considered to be gender-less. While some regular Pokemon may be gender-less that feature will play a larger role in the prediction process. \n",
    "\n",
    "**What happens if it is a bust? What are the implications?**\n",
    "\n",
    "If the model is a flop then the young trainer will have to catch the unknown Pokemon the old fashion way or stay out of the tall grass."
   ]
  }
 ],
 "metadata": {
  "anaconda-cloud": {},
  "kernelspec": {
   "display_name": "Python [conda root]",
   "language": "python",
   "name": "conda-root-py"
  },
  "language_info": {
   "codemirror_mode": {
    "name": "ipython",
    "version": 2
   },
   "file_extension": ".py",
   "mimetype": "text/x-python",
   "name": "python",
   "nbconvert_exporter": "python",
   "pygments_lexer": "ipython2",
   "version": "2.7.12"
  }
 },
 "nbformat": 4,
 "nbformat_minor": 1
}
