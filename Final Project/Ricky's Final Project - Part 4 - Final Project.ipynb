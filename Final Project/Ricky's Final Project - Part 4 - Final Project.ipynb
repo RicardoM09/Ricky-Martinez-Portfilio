{
 "cells": [
  {
   "cell_type": "markdown",
   "metadata": {
    "collapsed": true
   },
   "source": [
    "# Ricky's Final Project - Part 4"
   ]
  },
  {
   "cell_type": "markdown",
   "metadata": {
    "collapsed": true
   },
   "source": [
    "## Pokedex Upgrade - Predicting the Legendary Status of Unknown Pokemon"
   ]
  },
  {
   "cell_type": "markdown",
   "metadata": {},
   "source": [
    "### **Table of Contents**\n",
    "\n",
    "\n",
    "**1) Problem and Hypothesis**\n",
    "    * Problem Statement\n",
    "    * Why machine learning?\n",
    "\n",
    "**2) Dataset**\n",
    "    * Data Dictionary\n",
    "    * Feature Engineering\n",
    "    \n",
    "**3) Model Insights**\n",
    "    * Importing Data\n",
    "    * Feature Engineering\n",
    "    * Exploritory Data Analysis\n",
    " \n",
    "**4) Modeling Approach**\n",
    "    * Random Forest - Feature Importance\n",
    "    * Random Forest - Highest Importance Features\n",
    "    * Random Forest - Only Physical Features\n",
    "    * Logistic Regression\n",
    "\n",
    "**5) Summary**\n",
    "    * Results\n",
    "    * Model Learning Curve\n",
    "    * Key Take Aways"
   ]
  },
  {
   "cell_type": "markdown",
   "metadata": {},
   "source": [
    "## ** 1) Problem and Hypothesis**"
   ]
  },
  {
   "cell_type": "markdown",
   "metadata": {},
   "source": [
    "**Problem Statement**\n",
    "\n",
    "Ever since 1996, thousands of young aspiring Pokemon masters leave their homes in an effort to \"catch em all\" with nothing more than the clothes on their back and a Pokedex. However, as time passes there seems to be an ever growing number of species. It can be daunting to encounter an unknown species for the first time. This project explores using predictive models to help a Pokedex classify unknown Pokemon as a 'Legendary' type based on previously discovered characteristics.\n",
    "\n",
    "**How does this tie into machine learning?**\n",
    "\n",
    "There are a few machine learning methods that can be used on this data set. To predict if a Pokemon is a legendary type we can convert a boolean feature and run a random forest or logistic regression. Both will require feature selection methods to reduce the number of variables that come into play. "
   ]
  },
  {
   "cell_type": "markdown",
   "metadata": {},
   "source": [
    "## **2) Data Set**"
   ]
  },
  {
   "cell_type": "markdown",
   "metadata": {},
   "source": [
    "\n",
    "**Data Dictionary**\n",
    "\n",
    "The origional data set includes 21 variables for each of the 721 Pokemon. Consisting of attribute types, battle statistics, gender, body characteristics and so on. The data types are made up of categorical strings, booleans, integers and floats.\n",
    "\n",
    "* Number = Pokémon ID in the Pokédex (integer)\n",
    "* Name = Name of the Pokémon (string)\n",
    "* Type_1 = Primary type (string)\n",
    "* Type_2 = Second type, in case the Pokémon has it (string)\n",
    "* Total = Sum of all the base stats (Health Points, Attack, Defense, Special Attack, Special Defense, and Speed) (integer)\n",
    "* HP = Base Health Points (integer)\n",
    "* Attack = Base Attack (integer)\n",
    "* Defense = Base Defense (integer)\n",
    "* Sp_Atk = Base Special Attack (integer)\n",
    "* Sp_Def = Base Special Defense (integer)\n",
    "* Speed = Base Speed (integer)\n",
    "* Generation = Number of the generation when the Pokémon was introduced (integer)\n",
    "* isLegendary = Indicates whether the Pokémon is Legendary or not (boolean)\n",
    "* Color = Color of the Pokémon according to the Pokédex (string)\n",
    "* hasGender = Indicates if the Pokémon can be classified as female or male (boolean)\n",
    "* Pr_male = In case the Pokémon has Gender, the probability of its being male (float)\n",
    "* Egg_Group_1 = Egg Group of the Pokémon (string)\n",
    "* Egg_Group_2 = Second Egg Group of the Pokémon, in case it has two (string)\n",
    "* hasMegaEvolution = Indicates whether the Pokémon is able to Mega-evolve or not (boolean)\n",
    "* Height_m = Height of the Pokémon, in meters (float)\n",
    "* Weight_kg = Weight of the Pokémon, in kilograms (float)\n",
    "* Catch_Rate = Catch Rate (integer)\n",
    "* Body_Style = Body Style of the Pokémon according to the Pokédex (string)\n",
    "\n",
    "**Data Set Details**\n",
    "\n",
    "The data set was compiled on kaggle.com -> https://www.kaggle.com/abcsds/pokemon using the below sources from the video games series:\n",
    "\n",
    "* pokemon.com\n",
    "* pokemondb\n",
    "* bulbapedia\n"
   ]
  },
  {
   "cell_type": "markdown",
   "metadata": {},
   "source": [
    "## 3) **Modeling Insight**"
   ]
  },
  {
   "cell_type": "markdown",
   "metadata": {},
   "source": [
    "### **Importing and Cleaning**"
   ]
  },
  {
   "cell_type": "code",
   "execution_count": 85,
   "metadata": {
    "collapsed": true
   },
   "outputs": [],
   "source": [
    "import os\n",
    "import pandas as pd\n",
    "import numpy as np\n",
    "import matplotlib.pyplot as plt\n",
    "import seaborn as sns\n",
    "import statsmodels.api as sm\n",
    "\n",
    "pd.set_option('display.max_columns', None)\n",
    "pd.set_option('display.max_rows', None)\n",
    "\n",
    "%matplotlib inline\n",
    "\n",
    "plt.style.use('ggplot')"
   ]
  },
  {
   "cell_type": "code",
   "execution_count": 86,
   "metadata": {
    "collapsed": false
   },
   "outputs": [
    {
     "data": {
      "text/html": [
       "<div>\n",
       "<table border=\"1\" class=\"dataframe\">\n",
       "  <thead>\n",
       "    <tr style=\"text-align: right;\">\n",
       "      <th></th>\n",
       "      <th>Type_1</th>\n",
       "      <th>Type_2</th>\n",
       "      <th>Total</th>\n",
       "      <th>HP</th>\n",
       "      <th>Attack</th>\n",
       "      <th>Defense</th>\n",
       "      <th>Sp_Atk</th>\n",
       "      <th>Sp_Def</th>\n",
       "      <th>Speed</th>\n",
       "      <th>isLegendary</th>\n",
       "      <th>Color</th>\n",
       "      <th>hasGender</th>\n",
       "      <th>Pr_Male</th>\n",
       "      <th>Egg_Group_1</th>\n",
       "      <th>hasMegaEvolution</th>\n",
       "      <th>Height_m</th>\n",
       "      <th>Weight_kg</th>\n",
       "      <th>Catch_Rate</th>\n",
       "      <th>Body_Style</th>\n",
       "    </tr>\n",
       "    <tr>\n",
       "      <th>Number</th>\n",
       "      <th></th>\n",
       "      <th></th>\n",
       "      <th></th>\n",
       "      <th></th>\n",
       "      <th></th>\n",
       "      <th></th>\n",
       "      <th></th>\n",
       "      <th></th>\n",
       "      <th></th>\n",
       "      <th></th>\n",
       "      <th></th>\n",
       "      <th></th>\n",
       "      <th></th>\n",
       "      <th></th>\n",
       "      <th></th>\n",
       "      <th></th>\n",
       "      <th></th>\n",
       "      <th></th>\n",
       "      <th></th>\n",
       "    </tr>\n",
       "  </thead>\n",
       "  <tbody>\n",
       "    <tr>\n",
       "      <th>1</th>\n",
       "      <td>Grass</td>\n",
       "      <td>Poison</td>\n",
       "      <td>318</td>\n",
       "      <td>45</td>\n",
       "      <td>49</td>\n",
       "      <td>49</td>\n",
       "      <td>65</td>\n",
       "      <td>65</td>\n",
       "      <td>45</td>\n",
       "      <td>False</td>\n",
       "      <td>Green</td>\n",
       "      <td>True</td>\n",
       "      <td>0.875</td>\n",
       "      <td>Monster</td>\n",
       "      <td>False</td>\n",
       "      <td>0.71</td>\n",
       "      <td>6.9</td>\n",
       "      <td>45</td>\n",
       "      <td>quadruped</td>\n",
       "    </tr>\n",
       "  </tbody>\n",
       "</table>\n",
       "</div>"
      ],
      "text/plain": [
       "       Type_1  Type_2  Total  HP  Attack  Defense  Sp_Atk  Sp_Def  Speed  \\\n",
       "Number                                                                     \n",
       "1       Grass  Poison    318  45      49       49      65      65     45   \n",
       "\n",
       "       isLegendary  Color hasGender  Pr_Male Egg_Group_1 hasMegaEvolution  \\\n",
       "Number                                                                      \n",
       "1            False  Green      True    0.875     Monster            False   \n",
       "\n",
       "        Height_m  Weight_kg  Catch_Rate Body_Style  \n",
       "Number                                              \n",
       "1           0.71        6.9          45  quadruped  "
      ]
     },
     "execution_count": 86,
     "metadata": {},
     "output_type": "execute_result"
    }
   ],
   "source": [
    "poke_data = pd.read_csv(os.path.join('.', 'pokemon_stats_data.csv'), index_col = 0)\n",
    "\n",
    "\"\"\"I chose to drop a few variables because they were either irrelevant or redundant such as 'Name' which I substituted with\n",
    "their registration number.\"\"\"\n",
    "\n",
    "remove_redundant = ['Egg_Group_2','Generation','Name']\n",
    "poke_data.drop(remove_redundant, axis = 1, inplace=True)\n",
    "poke_data['Pr_Male'].fillna(value=0, inplace=True) # Was missing values\n",
    "\n",
    "poke_data.head(1)"
   ]
  },
  {
   "cell_type": "markdown",
   "metadata": {},
   "source": [
    "### **Feature Engineering**"
   ]
  },
  {
   "cell_type": "markdown",
   "metadata": {},
   "source": [
    "To run Random Forest I needed to clean up the data further. I created additional features using several methods.\n",
    "    * Used Pandas' get dummies function within a for loop to perform one hot coding and drop the redundant variable\n",
    "    * Created a function to identify blank space to make a binary column\n",
    "    * Using Numpy to create additional columns that are the summation of others "
   ]
  },
  {
   "cell_type": "code",
   "execution_count": 87,
   "metadata": {
    "collapsed": false
   },
   "outputs": [],
   "source": [
    "# Additional feature: Creating binary dummies for the below true/false features\n",
    "features = ['hasGender', 'isLegendary', 'hasMegaEvolution']\n",
    "for feature in features:\n",
    "    poke_data = pd.concat([poke_data, (pd.get_dummies(poke_data[feature], prefix=feature, drop_first=True))], axis=1)\n",
    "    poke_data.drop(feature, axis=1, inplace=True)\n",
    "    \n",
    "\n",
    "# Additional feature: to use for modeling such as if Pokemon has a second categorical\n",
    "def has_2nd_type(text_in):\n",
    "    try:\n",
    "        if ' ' in text_in:\n",
    "            return 0\n",
    "        else:\n",
    "            return 1\n",
    "    except: \n",
    "        return 0\n",
    "        \n",
    "poke_data['2nd_Type'] = poke_data['Type_2'].map(has_2nd_type)\n",
    "del poke_data['Type_2']\n",
    "\n",
    "# Additional features: Sum of their offensive and defensive stats\n",
    "poke_data['Offensive_Stats'] = poke_data['Attack'] + poke_data['Sp_Atk'] + poke_data['Speed']\n",
    "poke_data['Defensive_Stats'] = poke_data['HP'] + poke_data['Defense'] + poke_data['Sp_Def']"
   ]
  },
  {
   "cell_type": "code",
   "execution_count": 88,
   "metadata": {
    "collapsed": false
   },
   "outputs": [],
   "source": [
    "# Creating binary dummies for the below categorical features\n",
    "# Created for a second dataset that has physical characteristics broken out\n",
    "\n",
    "cat_feats = ['Body_Style','Type_1']\n",
    "poke_data2 = poke_data.copy()\n",
    "\n",
    "for cat_feat in cat_feats:\n",
    "    poke_data2 = pd.concat([poke_data2, (pd.get_dummies(poke_data2[cat_feat], prefix=cat_feat, drop_first=True))], axis=1)\n",
    "    poke_data2.drop(cat_feat, axis=1, inplace=True)\n",
    "    \n",
    "# Storing 3rd version for later use and as a backup\n",
    "poke_data3 = poke_data2.copy()"
   ]
  },
  {
   "cell_type": "markdown",
   "metadata": {},
   "source": [
    "## ** High Level EDA **"
   ]
  },
  {
   "cell_type": "markdown",
   "metadata": {},
   "source": [
    "There is a fairly strong positive correlation between Total stats and isLegendary_True (.48), this makes sense as a rarer pokemon would have more strength. Additionally, Catch_Rate and hasGender_True is highly correlated. As it turns out 87% of Legendary Pokemon don't have a gender. Which aligns with why it shares a high negative correlation with isLegendary_True (-.65). To further drive home the point it looks like pokemon with no gender have a lower catch rate; meaning that it is more difficult to catch a pokemon without a sex implying that they may be legendary."
   ]
  },
  {
   "cell_type": "code",
   "execution_count": 89,
   "metadata": {
    "collapsed": false
   },
   "outputs": [
    {
     "name": "stdout",
     "output_type": "stream",
     "text": [
      "<class 'pandas.core.frame.DataFrame'>\n",
      "Int64Index: 721 entries, 1 to 721\n",
      "Data columns (total 21 columns):\n",
      "Type_1                   721 non-null object\n",
      "Total                    721 non-null int64\n",
      "HP                       721 non-null int64\n",
      "Attack                   721 non-null int64\n",
      "Defense                  721 non-null int64\n",
      "Sp_Atk                   721 non-null int64\n",
      "Sp_Def                   721 non-null int64\n",
      "Speed                    721 non-null int64\n",
      "Color                    721 non-null object\n",
      "Pr_Male                  721 non-null float64\n",
      "Egg_Group_1              721 non-null object\n",
      "Height_m                 721 non-null float64\n",
      "Weight_kg                721 non-null float64\n",
      "Catch_Rate               721 non-null int64\n",
      "Body_Style               721 non-null object\n",
      "hasGender_True           721 non-null float64\n",
      "isLegendary_True         721 non-null float64\n",
      "hasMegaEvolution_True    721 non-null float64\n",
      "2nd_Type                 721 non-null int64\n",
      "Offensive_Stats          721 non-null int64\n",
      "Defensive_Stats          721 non-null int64\n",
      "dtypes: float64(6), int64(11), object(4)\n",
      "memory usage: 123.9+ KB\n"
     ]
    }
   ],
   "source": [
    "# Getting a feel for all the remaining features, data types and observation counts. We no longer have missing data.\n",
    "poke_data.info()"
   ]
  },
  {
   "cell_type": "code",
   "execution_count": 90,
   "metadata": {
    "collapsed": false
   },
   "outputs": [
    {
     "data": {
      "text/html": [
       "<div>\n",
       "<table border=\"1\" class=\"dataframe\">\n",
       "  <thead>\n",
       "    <tr style=\"text-align: right;\">\n",
       "      <th></th>\n",
       "      <th>Total</th>\n",
       "      <th>HP</th>\n",
       "      <th>Attack</th>\n",
       "      <th>Defense</th>\n",
       "      <th>Sp_Atk</th>\n",
       "      <th>Sp_Def</th>\n",
       "      <th>Speed</th>\n",
       "      <th>Pr_Male</th>\n",
       "      <th>Height_m</th>\n",
       "      <th>Weight_kg</th>\n",
       "      <th>Catch_Rate</th>\n",
       "      <th>hasGender_True</th>\n",
       "      <th>isLegendary_True</th>\n",
       "      <th>hasMegaEvolution_True</th>\n",
       "      <th>2nd_Type</th>\n",
       "      <th>Offensive_Stats</th>\n",
       "      <th>Defensive_Stats</th>\n",
       "    </tr>\n",
       "  </thead>\n",
       "  <tbody>\n",
       "    <tr>\n",
       "      <th>count</th>\n",
       "      <td>721.000000</td>\n",
       "      <td>721.000000</td>\n",
       "      <td>721.000000</td>\n",
       "      <td>721.000000</td>\n",
       "      <td>721.000000</td>\n",
       "      <td>721.000000</td>\n",
       "      <td>721.000000</td>\n",
       "      <td>721.000000</td>\n",
       "      <td>721.000000</td>\n",
       "      <td>721.000000</td>\n",
       "      <td>721.000000</td>\n",
       "      <td>721.000000</td>\n",
       "      <td>721.000000</td>\n",
       "      <td>721.000000</td>\n",
       "      <td>721.000000</td>\n",
       "      <td>721.000000</td>\n",
       "      <td>721.000000</td>\n",
       "    </tr>\n",
       "    <tr>\n",
       "      <th>mean</th>\n",
       "      <td>417.945908</td>\n",
       "      <td>68.380028</td>\n",
       "      <td>75.013870</td>\n",
       "      <td>70.808599</td>\n",
       "      <td>68.737864</td>\n",
       "      <td>69.291262</td>\n",
       "      <td>65.714286</td>\n",
       "      <td>0.494279</td>\n",
       "      <td>1.144979</td>\n",
       "      <td>56.773370</td>\n",
       "      <td>100.246879</td>\n",
       "      <td>0.893204</td>\n",
       "      <td>0.063800</td>\n",
       "      <td>0.063800</td>\n",
       "      <td>0.485437</td>\n",
       "      <td>209.466019</td>\n",
       "      <td>208.479889</td>\n",
       "    </tr>\n",
       "    <tr>\n",
       "      <th>std</th>\n",
       "      <td>109.663671</td>\n",
       "      <td>25.848272</td>\n",
       "      <td>28.984475</td>\n",
       "      <td>29.296558</td>\n",
       "      <td>28.788005</td>\n",
       "      <td>27.015860</td>\n",
       "      <td>27.277920</td>\n",
       "      <td>0.254878</td>\n",
       "      <td>1.044369</td>\n",
       "      <td>89.095667</td>\n",
       "      <td>76.573513</td>\n",
       "      <td>0.309068</td>\n",
       "      <td>0.244566</td>\n",
       "      <td>0.244566</td>\n",
       "      <td>0.500135</td>\n",
       "      <td>64.791947</td>\n",
       "      <td>62.402857</td>\n",
       "    </tr>\n",
       "    <tr>\n",
       "      <th>min</th>\n",
       "      <td>180.000000</td>\n",
       "      <td>1.000000</td>\n",
       "      <td>5.000000</td>\n",
       "      <td>5.000000</td>\n",
       "      <td>10.000000</td>\n",
       "      <td>20.000000</td>\n",
       "      <td>5.000000</td>\n",
       "      <td>0.000000</td>\n",
       "      <td>0.100000</td>\n",
       "      <td>0.100000</td>\n",
       "      <td>3.000000</td>\n",
       "      <td>0.000000</td>\n",
       "      <td>0.000000</td>\n",
       "      <td>0.000000</td>\n",
       "      <td>0.000000</td>\n",
       "      <td>25.000000</td>\n",
       "      <td>70.000000</td>\n",
       "    </tr>\n",
       "    <tr>\n",
       "      <th>25%</th>\n",
       "      <td>320.000000</td>\n",
       "      <td>50.000000</td>\n",
       "      <td>53.000000</td>\n",
       "      <td>50.000000</td>\n",
       "      <td>45.000000</td>\n",
       "      <td>50.000000</td>\n",
       "      <td>45.000000</td>\n",
       "      <td>0.500000</td>\n",
       "      <td>0.610000</td>\n",
       "      <td>9.400000</td>\n",
       "      <td>45.000000</td>\n",
       "      <td>1.000000</td>\n",
       "      <td>0.000000</td>\n",
       "      <td>0.000000</td>\n",
       "      <td>0.000000</td>\n",
       "      <td>160.000000</td>\n",
       "      <td>160.000000</td>\n",
       "    </tr>\n",
       "    <tr>\n",
       "      <th>50%</th>\n",
       "      <td>424.000000</td>\n",
       "      <td>65.000000</td>\n",
       "      <td>74.000000</td>\n",
       "      <td>65.000000</td>\n",
       "      <td>65.000000</td>\n",
       "      <td>65.000000</td>\n",
       "      <td>65.000000</td>\n",
       "      <td>0.500000</td>\n",
       "      <td>0.990000</td>\n",
       "      <td>28.000000</td>\n",
       "      <td>65.000000</td>\n",
       "      <td>1.000000</td>\n",
       "      <td>0.000000</td>\n",
       "      <td>0.000000</td>\n",
       "      <td>0.000000</td>\n",
       "      <td>205.000000</td>\n",
       "      <td>205.000000</td>\n",
       "    </tr>\n",
       "    <tr>\n",
       "      <th>75%</th>\n",
       "      <td>499.000000</td>\n",
       "      <td>80.000000</td>\n",
       "      <td>95.000000</td>\n",
       "      <td>85.000000</td>\n",
       "      <td>90.000000</td>\n",
       "      <td>85.000000</td>\n",
       "      <td>85.000000</td>\n",
       "      <td>0.500000</td>\n",
       "      <td>1.400000</td>\n",
       "      <td>61.000000</td>\n",
       "      <td>180.000000</td>\n",
       "      <td>1.000000</td>\n",
       "      <td>0.000000</td>\n",
       "      <td>0.000000</td>\n",
       "      <td>1.000000</td>\n",
       "      <td>255.000000</td>\n",
       "      <td>250.000000</td>\n",
       "    </tr>\n",
       "    <tr>\n",
       "      <th>max</th>\n",
       "      <td>720.000000</td>\n",
       "      <td>255.000000</td>\n",
       "      <td>165.000000</td>\n",
       "      <td>230.000000</td>\n",
       "      <td>154.000000</td>\n",
       "      <td>230.000000</td>\n",
       "      <td>160.000000</td>\n",
       "      <td>1.000000</td>\n",
       "      <td>14.500000</td>\n",
       "      <td>950.000000</td>\n",
       "      <td>255.000000</td>\n",
       "      <td>1.000000</td>\n",
       "      <td>1.000000</td>\n",
       "      <td>1.000000</td>\n",
       "      <td>1.000000</td>\n",
       "      <td>450.000000</td>\n",
       "      <td>480.000000</td>\n",
       "    </tr>\n",
       "  </tbody>\n",
       "</table>\n",
       "</div>"
      ],
      "text/plain": [
       "            Total          HP      Attack     Defense      Sp_Atk      Sp_Def  \\\n",
       "count  721.000000  721.000000  721.000000  721.000000  721.000000  721.000000   \n",
       "mean   417.945908   68.380028   75.013870   70.808599   68.737864   69.291262   \n",
       "std    109.663671   25.848272   28.984475   29.296558   28.788005   27.015860   \n",
       "min    180.000000    1.000000    5.000000    5.000000   10.000000   20.000000   \n",
       "25%    320.000000   50.000000   53.000000   50.000000   45.000000   50.000000   \n",
       "50%    424.000000   65.000000   74.000000   65.000000   65.000000   65.000000   \n",
       "75%    499.000000   80.000000   95.000000   85.000000   90.000000   85.000000   \n",
       "max    720.000000  255.000000  165.000000  230.000000  154.000000  230.000000   \n",
       "\n",
       "            Speed     Pr_Male    Height_m   Weight_kg  Catch_Rate  \\\n",
       "count  721.000000  721.000000  721.000000  721.000000  721.000000   \n",
       "mean    65.714286    0.494279    1.144979   56.773370  100.246879   \n",
       "std     27.277920    0.254878    1.044369   89.095667   76.573513   \n",
       "min      5.000000    0.000000    0.100000    0.100000    3.000000   \n",
       "25%     45.000000    0.500000    0.610000    9.400000   45.000000   \n",
       "50%     65.000000    0.500000    0.990000   28.000000   65.000000   \n",
       "75%     85.000000    0.500000    1.400000   61.000000  180.000000   \n",
       "max    160.000000    1.000000   14.500000  950.000000  255.000000   \n",
       "\n",
       "       hasGender_True  isLegendary_True  hasMegaEvolution_True    2nd_Type  \\\n",
       "count      721.000000        721.000000             721.000000  721.000000   \n",
       "mean         0.893204          0.063800               0.063800    0.485437   \n",
       "std          0.309068          0.244566               0.244566    0.500135   \n",
       "min          0.000000          0.000000               0.000000    0.000000   \n",
       "25%          1.000000          0.000000               0.000000    0.000000   \n",
       "50%          1.000000          0.000000               0.000000    0.000000   \n",
       "75%          1.000000          0.000000               0.000000    1.000000   \n",
       "max          1.000000          1.000000               1.000000    1.000000   \n",
       "\n",
       "       Offensive_Stats  Defensive_Stats  \n",
       "count       721.000000       721.000000  \n",
       "mean        209.466019       208.479889  \n",
       "std          64.791947        62.402857  \n",
       "min          25.000000        70.000000  \n",
       "25%         160.000000       160.000000  \n",
       "50%         205.000000       205.000000  \n",
       "75%         255.000000       250.000000  \n",
       "max         450.000000       480.000000  "
      ]
     },
     "execution_count": 90,
     "metadata": {},
     "output_type": "execute_result"
    }
   ],
   "source": [
    "# Examining the distribution of the data set\n",
    "poke_data.describe()"
   ]
  },
  {
   "cell_type": "code",
   "execution_count": 91,
   "metadata": {
    "collapsed": false
   },
   "outputs": [
    {
     "data": {
      "text/plain": [
       "Total                    0.481837\n",
       "HP                       0.258926\n",
       "Attack                   0.302786\n",
       "Defense                  0.274446\n",
       "Sp_Atk                   0.409739\n",
       "Sp_Def                   0.360215\n",
       "Speed                    0.286082\n",
       "Pr_Male                 -0.406338\n",
       "Height_m                 0.326323\n",
       "Weight_kg                0.425219\n",
       "Catch_Rate              -0.319302\n",
       "hasGender_True          -0.644714\n",
       "isLegendary_True         1.000000\n",
       "hasMegaEvolution_True    0.047955\n",
       "2nd_Type                 0.053026\n",
       "Offensive_Stats          0.437946\n",
       "Defensive_Stats          0.392043\n",
       "Name: isLegendary_True, dtype: float64"
      ]
     },
     "execution_count": 91,
     "metadata": {},
     "output_type": "execute_result"
    }
   ],
   "source": [
    "# Examining correlation between isLegendary_True feature with all others. Total, Catch Rate and hasGender_True have high\n",
    "# correlations\n",
    "\n",
    "poke_data.corr().iloc[:,12]"
   ]
  },
  {
   "cell_type": "code",
   "execution_count": 92,
   "metadata": {
    "collapsed": false,
    "scrolled": true
   },
   "outputs": [
    {
     "data": {
      "image/png": "[encoded data removed]",
      "text/plain": [
       "<matplotlib.figure.Figure at 0xde7ab00>"
      ]
     },
     "metadata": {},
     "output_type": "display_data"
    }
   ],
   "source": [
    "# Exploring individual battle stats using boxplots to examine for any outliers\n",
    "# We can see that 'Total' stats has a wide range \n",
    "battle_stats = poke_data[['Total', 'HP', 'Attack', 'Defense', 'Sp_Atk', 'Sp_Def', 'Speed']]\n",
    "sns.boxplot(data=battle_stats);"
   ]
  },
  {
   "cell_type": "code",
   "execution_count": 93,
   "metadata": {
    "collapsed": false
   },
   "outputs": [
    {
     "name": "stdout",
     "output_type": "stream",
     "text": [
      "isLegendary_True\n",
      "0.0    404.161481\n",
      "1.0    620.217391\n",
      "Name: Total, dtype: float64\n"
     ]
    }
   ],
   "source": [
    "# It appears the average Total stats of a legendary is 200 points higher than a the average non-legendary which would make\n",
    "# sense that Total and isLegendary_True are highly correlated.\n",
    "\n",
    "legend_breakout_total = poke_data.groupby(poke_data['isLegendary_True'], sort=True)['Total'].mean()\n",
    "print legend_breakout_total"
   ]
  },
  {
   "cell_type": "markdown",
   "metadata": {},
   "source": [
    "87% of Legendary Pokemon don't have a gender. Which aligns with why it shares a high negative correlation with isLegendary_True (-.65). To further drive home the point it looks like pokemon with no gender have a lower catch rate; meaning that it is more difficult to a pokemon without a sex. "
   ]
  },
  {
   "cell_type": "code",
   "execution_count": 94,
   "metadata": {
    "collapsed": false
   },
   "outputs": [
    {
     "name": "stdout",
     "output_type": "stream",
     "text": [
      "isLegendary_True\n",
      "0.0    0.945185\n",
      "1.0    0.130435\n",
      "Name: hasGender_True, dtype: float64\n"
     ]
    }
   ],
   "source": [
    "# Displays the percent of Pokemon that have a Gender broken out by Legendary vs. Non-Legendary\n",
    "legend_breakout_hasgender = poke_data.groupby(poke_data['isLegendary_True'], sort=True)['hasGender_True'].mean()\n",
    "print legend_breakout_hasgender"
   ]
  },
  {
   "cell_type": "code",
   "execution_count": 95,
   "metadata": {
    "collapsed": false
   },
   "outputs": [
    {
     "data": {
      "text/plain": [
       "<matplotlib.axes._subplots.AxesSubplot at 0xe622400>"
      ]
     },
     "execution_count": 95,
     "metadata": {},
     "output_type": "execute_result"
    },
    {
     "data": {
      "image/png": "[encoded data removed]",
      "text/plain": [
       "<matplotlib.figure.Figure at 0xe5d2be0>"
      ]
     },
     "metadata": {},
     "output_type": "display_data"
    }
   ],
   "source": [
    "# A Pokemon without a gender on average has a lower likeihood of being caught. \n",
    "sns.set_context(\"notebook\", font_scale=.90)\n",
    "sns.barplot(x='hasGender_True', y='Catch_Rate', data=poke_data)"
   ]
  },
  {
   "cell_type": "markdown",
   "metadata": {},
   "source": [
    "##  **4) Modeling Approach**"
   ]
  },
  {
   "cell_type": "markdown",
   "metadata": {},
   "source": [
    "I decided to use a Random Forest for modeling and feature selection purposes. Having a smaller number of observations and a high count of features, I wanted to protect my model from overfitting. To ensure my data was proportionate in my testing groups I stratified my training and testing splits. \n",
    "\n",
    "Initially, I ran the model using the top scoring features and had great results. However, having battle stats in the equation seemed a bit unrealistic in the sense that how could a device measure the strength of a creature it has never before seen. Therefore, I decided to rerun my random forest using solely characteristics that can be determined physically.\n",
    "\n",
    "Finally, to be better able to convey my findings to the Poke-community I used the same test train split from the phyiscal features random forest to run a logistic regression model. It would be easier to to explain in the sense that I can directly associate a coefficient to each feature rather than a black box using a random forest. Additionally, for the Pokedex to work effectively it would need to be able to run the model much faster than your a random forest could."
   ]
  },
  {
   "cell_type": "markdown",
   "metadata": {},
   "source": [
    "** Using Random Forest for Feature Selection **"
   ]
  },
  {
   "cell_type": "markdown",
   "metadata": {},
   "source": [
    "Without creating a test/train split I imported the Random Forest Classifer and ran a feature importance test to give me a gauge of my most important features. It is no shock that Total stats and Catch Rate were at the top of the list making up ~ 45%. "
   ]
  },
  {
   "cell_type": "code",
   "execution_count": 96,
   "metadata": {
    "collapsed": false,
    "scrolled": true
   },
   "outputs": [],
   "source": [
    "# No need to make test train split just yet. \n",
    "X_feat_test = poke_data2\n",
    "y_feat_test = poke_data2['isLegendary_True']\n",
    "\n",
    "remove = ['isLegendary_True', 'Color', 'Egg_Group_1']\n",
    "X_feat_test.drop(remove, axis = 1, inplace=True)\n"
   ]
  },
  {
   "cell_type": "code",
   "execution_count": 97,
   "metadata": {
    "collapsed": false
   },
   "outputs": [
    {
     "data": {
      "text/plain": [
       "RandomForestClassifier(bootstrap=True, class_weight=None, criterion='gini',\n",
       "            max_depth=None, max_features='auto', max_leaf_nodes=None,\n",
       "            min_impurity_split=1e-07, min_samples_leaf=1,\n",
       "            min_samples_split=2, min_weight_fraction_leaf=0.0,\n",
       "            n_estimators=20, n_jobs=1, oob_score=False, random_state=None,\n",
       "            verbose=0, warm_start=False)"
      ]
     },
     "execution_count": 97,
     "metadata": {},
     "output_type": "execute_result"
    }
   ],
   "source": [
    "# Call the Random Forest Classifier\n",
    "from sklearn.ensemble import RandomForestClassifier\n",
    "\n",
    "model = RandomForestClassifier(n_estimators = 20)\n",
    "    \n",
    "model.fit(X_feat_test, y_feat_test)"
   ]
  },
  {
   "cell_type": "code",
   "execution_count": 98,
   "metadata": {
    "collapsed": false
   },
   "outputs": [
    {
     "data": {
      "text/html": [
       "<div>\n",
       "<table border=\"1\" class=\"dataframe\">\n",
       "  <thead>\n",
       "    <tr style=\"text-align: right;\">\n",
       "      <th></th>\n",
       "      <th>Features</th>\n",
       "      <th>Importance Score</th>\n",
       "    </tr>\n",
       "  </thead>\n",
       "  <tbody>\n",
       "    <tr>\n",
       "      <th>0</th>\n",
       "      <td>Total</td>\n",
       "      <td>0.254231</td>\n",
       "    </tr>\n",
       "    <tr>\n",
       "      <th>10</th>\n",
       "      <td>Catch_Rate</td>\n",
       "      <td>0.133057</td>\n",
       "    </tr>\n",
       "    <tr>\n",
       "      <th>11</th>\n",
       "      <td>hasGender_True</td>\n",
       "      <td>0.090967</td>\n",
       "    </tr>\n",
       "    <tr>\n",
       "      <th>8</th>\n",
       "      <td>Height_m</td>\n",
       "      <td>0.085301</td>\n",
       "    </tr>\n",
       "    <tr>\n",
       "      <th>7</th>\n",
       "      <td>Pr_Male</td>\n",
       "      <td>0.067403</td>\n",
       "    </tr>\n",
       "    <tr>\n",
       "      <th>9</th>\n",
       "      <td>Weight_kg</td>\n",
       "      <td>0.049027</td>\n",
       "    </tr>\n",
       "    <tr>\n",
       "      <th>4</th>\n",
       "      <td>Sp_Atk</td>\n",
       "      <td>0.046448</td>\n",
       "    </tr>\n",
       "    <tr>\n",
       "      <th>2</th>\n",
       "      <td>Attack</td>\n",
       "      <td>0.041352</td>\n",
       "    </tr>\n",
       "    <tr>\n",
       "      <th>15</th>\n",
       "      <td>Defensive_Stats</td>\n",
       "      <td>0.040698</td>\n",
       "    </tr>\n",
       "    <tr>\n",
       "      <th>6</th>\n",
       "      <td>Speed</td>\n",
       "      <td>0.035605</td>\n",
       "    </tr>\n",
       "    <tr>\n",
       "      <th>5</th>\n",
       "      <td>Sp_Def</td>\n",
       "      <td>0.034378</td>\n",
       "    </tr>\n",
       "    <tr>\n",
       "      <th>14</th>\n",
       "      <td>Offensive_Stats</td>\n",
       "      <td>0.028622</td>\n",
       "    </tr>\n",
       "    <tr>\n",
       "      <th>3</th>\n",
       "      <td>Defense</td>\n",
       "      <td>0.021544</td>\n",
       "    </tr>\n",
       "    <tr>\n",
       "      <th>1</th>\n",
       "      <td>HP</td>\n",
       "      <td>0.018641</td>\n",
       "    </tr>\n",
       "    <tr>\n",
       "      <th>42</th>\n",
       "      <td>Type_1_Psychic</td>\n",
       "      <td>0.011045</td>\n",
       "    </tr>\n",
       "    <tr>\n",
       "      <th>24</th>\n",
       "      <td>Body_Style_quadruped</td>\n",
       "      <td>0.006903</td>\n",
       "    </tr>\n",
       "    <tr>\n",
       "      <th>30</th>\n",
       "      <td>Type_1_Dragon</td>\n",
       "      <td>0.005529</td>\n",
       "    </tr>\n",
       "    <tr>\n",
       "      <th>16</th>\n",
       "      <td>Body_Style_bipedal_tailless</td>\n",
       "      <td>0.005131</td>\n",
       "    </tr>\n",
       "    <tr>\n",
       "      <th>13</th>\n",
       "      <td>2nd_Type</td>\n",
       "      <td>0.004735</td>\n",
       "    </tr>\n",
       "    <tr>\n",
       "      <th>37</th>\n",
       "      <td>Type_1_Grass</td>\n",
       "      <td>0.003732</td>\n",
       "    </tr>\n",
       "    <tr>\n",
       "      <th>44</th>\n",
       "      <td>Type_1_Steel</td>\n",
       "      <td>0.003368</td>\n",
       "    </tr>\n",
       "    <tr>\n",
       "      <th>21</th>\n",
       "      <td>Body_Style_head_only</td>\n",
       "      <td>0.001952</td>\n",
       "    </tr>\n",
       "    <tr>\n",
       "      <th>27</th>\n",
       "      <td>Body_Style_two_wings</td>\n",
       "      <td>0.001865</td>\n",
       "    </tr>\n",
       "    <tr>\n",
       "      <th>29</th>\n",
       "      <td>Type_1_Dark</td>\n",
       "      <td>0.001789</td>\n",
       "    </tr>\n",
       "    <tr>\n",
       "      <th>45</th>\n",
       "      <td>Type_1_Water</td>\n",
       "      <td>0.001401</td>\n",
       "    </tr>\n",
       "    <tr>\n",
       "      <th>23</th>\n",
       "      <td>Body_Style_multiple_bodies</td>\n",
       "      <td>0.001016</td>\n",
       "    </tr>\n",
       "    <tr>\n",
       "      <th>40</th>\n",
       "      <td>Type_1_Normal</td>\n",
       "      <td>0.000971</td>\n",
       "    </tr>\n",
       "    <tr>\n",
       "      <th>12</th>\n",
       "      <td>hasMegaEvolution_True</td>\n",
       "      <td>0.000878</td>\n",
       "    </tr>\n",
       "    <tr>\n",
       "      <th>18</th>\n",
       "      <td>Body_Style_head_arms</td>\n",
       "      <td>0.000676</td>\n",
       "    </tr>\n",
       "    <tr>\n",
       "      <th>31</th>\n",
       "      <td>Type_1_Electric</td>\n",
       "      <td>0.000669</td>\n",
       "    </tr>\n",
       "    <tr>\n",
       "      <th>43</th>\n",
       "      <td>Type_1_Rock</td>\n",
       "      <td>0.000529</td>\n",
       "    </tr>\n",
       "    <tr>\n",
       "      <th>17</th>\n",
       "      <td>Body_Style_four_wings</td>\n",
       "      <td>0.000285</td>\n",
       "    </tr>\n",
       "    <tr>\n",
       "      <th>38</th>\n",
       "      <td>Type_1_Ground</td>\n",
       "      <td>0.000183</td>\n",
       "    </tr>\n",
       "    <tr>\n",
       "      <th>25</th>\n",
       "      <td>Body_Style_serpentine_body</td>\n",
       "      <td>0.000070</td>\n",
       "    </tr>\n",
       "    <tr>\n",
       "      <th>34</th>\n",
       "      <td>Type_1_Fire</td>\n",
       "      <td>0.000000</td>\n",
       "    </tr>\n",
       "    <tr>\n",
       "      <th>26</th>\n",
       "      <td>Body_Style_several_limbs</td>\n",
       "      <td>0.000000</td>\n",
       "    </tr>\n",
       "    <tr>\n",
       "      <th>36</th>\n",
       "      <td>Type_1_Ghost</td>\n",
       "      <td>0.000000</td>\n",
       "    </tr>\n",
       "    <tr>\n",
       "      <th>33</th>\n",
       "      <td>Type_1_Fighting</td>\n",
       "      <td>0.000000</td>\n",
       "    </tr>\n",
       "    <tr>\n",
       "      <th>32</th>\n",
       "      <td>Type_1_Fairy</td>\n",
       "      <td>0.000000</td>\n",
       "    </tr>\n",
       "    <tr>\n",
       "      <th>39</th>\n",
       "      <td>Type_1_Ice</td>\n",
       "      <td>0.000000</td>\n",
       "    </tr>\n",
       "    <tr>\n",
       "      <th>19</th>\n",
       "      <td>Body_Style_head_base</td>\n",
       "      <td>0.000000</td>\n",
       "    </tr>\n",
       "    <tr>\n",
       "      <th>41</th>\n",
       "      <td>Type_1_Poison</td>\n",
       "      <td>0.000000</td>\n",
       "    </tr>\n",
       "    <tr>\n",
       "      <th>20</th>\n",
       "      <td>Body_Style_head_legs</td>\n",
       "      <td>0.000000</td>\n",
       "    </tr>\n",
       "    <tr>\n",
       "      <th>28</th>\n",
       "      <td>Body_Style_with_fins</td>\n",
       "      <td>0.000000</td>\n",
       "    </tr>\n",
       "    <tr>\n",
       "      <th>22</th>\n",
       "      <td>Body_Style_insectoid</td>\n",
       "      <td>0.000000</td>\n",
       "    </tr>\n",
       "    <tr>\n",
       "      <th>35</th>\n",
       "      <td>Type_1_Flying</td>\n",
       "      <td>0.000000</td>\n",
       "    </tr>\n",
       "  </tbody>\n",
       "</table>\n",
       "</div>"
      ],
      "text/plain": [
       "                       Features  Importance Score\n",
       "0                         Total          0.254231\n",
       "10                   Catch_Rate          0.133057\n",
       "11               hasGender_True          0.090967\n",
       "8                      Height_m          0.085301\n",
       "7                       Pr_Male          0.067403\n",
       "9                     Weight_kg          0.049027\n",
       "4                        Sp_Atk          0.046448\n",
       "2                        Attack          0.041352\n",
       "15              Defensive_Stats          0.040698\n",
       "6                         Speed          0.035605\n",
       "5                        Sp_Def          0.034378\n",
       "14              Offensive_Stats          0.028622\n",
       "3                       Defense          0.021544\n",
       "1                            HP          0.018641\n",
       "42               Type_1_Psychic          0.011045\n",
       "24         Body_Style_quadruped          0.006903\n",
       "30                Type_1_Dragon          0.005529\n",
       "16  Body_Style_bipedal_tailless          0.005131\n",
       "13                     2nd_Type          0.004735\n",
       "37                 Type_1_Grass          0.003732\n",
       "44                 Type_1_Steel          0.003368\n",
       "21         Body_Style_head_only          0.001952\n",
       "27         Body_Style_two_wings          0.001865\n",
       "29                  Type_1_Dark          0.001789\n",
       "45                 Type_1_Water          0.001401\n",
       "23   Body_Style_multiple_bodies          0.001016\n",
       "40                Type_1_Normal          0.000971\n",
       "12        hasMegaEvolution_True          0.000878\n",
       "18         Body_Style_head_arms          0.000676\n",
       "31              Type_1_Electric          0.000669\n",
       "43                  Type_1_Rock          0.000529\n",
       "17        Body_Style_four_wings          0.000285\n",
       "38                Type_1_Ground          0.000183\n",
       "25   Body_Style_serpentine_body          0.000070\n",
       "34                  Type_1_Fire          0.000000\n",
       "26     Body_Style_several_limbs          0.000000\n",
       "36                 Type_1_Ghost          0.000000\n",
       "33              Type_1_Fighting          0.000000\n",
       "32                 Type_1_Fairy          0.000000\n",
       "39                   Type_1_Ice          0.000000\n",
       "19         Body_Style_head_base          0.000000\n",
       "41                Type_1_Poison          0.000000\n",
       "20         Body_Style_head_legs          0.000000\n",
       "28         Body_Style_with_fins          0.000000\n",
       "22         Body_Style_insectoid          0.000000\n",
       "35                Type_1_Flying          0.000000"
      ]
     },
     "execution_count": 98,
     "metadata": {},
     "output_type": "execute_result"
    }
   ],
   "source": [
    "# Run Feature_Importance from Random Forest\n",
    "features = X_feat_test.columns\n",
    "feature_importances = model.feature_importances_\n",
    "\n",
    "features_df = pd.DataFrame({'Features': features, 'Importance Score': feature_importances})\n",
    "features_df.sort_values('Importance Score', inplace=True, ascending=False)\n",
    "\n",
    "important_feat = features_df.head(50)\n",
    "important_feat\n",
    "\n",
    "# It appears that both Type and Body Type doesn't play a big role in regards to predicting a legendary classification. This\n",
    "# aligns with what I learn in earlier EDA. I will remove those from my random forest to help save time when running."
   ]
  },
  {
   "cell_type": "markdown",
   "metadata": {},
   "source": [
    "** RANDOM FOREST - Using Highest Importance Features**"
   ]
  },
  {
   "cell_type": "markdown",
   "metadata": {},
   "source": [
    "Seeing that Type and Body Style weren't all strong predicitors I chose to exclude them from this first round of Random Forest Testing. "
   ]
  },
  {
   "cell_type": "code",
   "execution_count": 99,
   "metadata": {
    "collapsed": false,
    "scrolled": true
   },
   "outputs": [
    {
     "data": {
      "text/html": [
       "<div>\n",
       "<table border=\"1\" class=\"dataframe\">\n",
       "  <thead>\n",
       "    <tr style=\"text-align: right;\">\n",
       "      <th></th>\n",
       "      <th>Features</th>\n",
       "      <th>Importance Score</th>\n",
       "    </tr>\n",
       "  </thead>\n",
       "  <tbody>\n",
       "    <tr>\n",
       "      <th>0</th>\n",
       "      <td>Total</td>\n",
       "      <td>0.282662</td>\n",
       "    </tr>\n",
       "    <tr>\n",
       "      <th>10</th>\n",
       "      <td>Catch_Rate</td>\n",
       "      <td>0.208183</td>\n",
       "    </tr>\n",
       "    <tr>\n",
       "      <th>14</th>\n",
       "      <td>Offensive_Stats</td>\n",
       "      <td>0.105038</td>\n",
       "    </tr>\n",
       "    <tr>\n",
       "      <th>7</th>\n",
       "      <td>Pr_Male</td>\n",
       "      <td>0.078745</td>\n",
       "    </tr>\n",
       "    <tr>\n",
       "      <th>8</th>\n",
       "      <td>Height_m</td>\n",
       "      <td>0.077587</td>\n",
       "    </tr>\n",
       "    <tr>\n",
       "      <th>11</th>\n",
       "      <td>hasGender_True</td>\n",
       "      <td>0.068073</td>\n",
       "    </tr>\n",
       "    <tr>\n",
       "      <th>9</th>\n",
       "      <td>Weight_kg</td>\n",
       "      <td>0.035399</td>\n",
       "    </tr>\n",
       "    <tr>\n",
       "      <th>1</th>\n",
       "      <td>HP</td>\n",
       "      <td>0.031315</td>\n",
       "    </tr>\n",
       "    <tr>\n",
       "      <th>2</th>\n",
       "      <td>Attack</td>\n",
       "      <td>0.027628</td>\n",
       "    </tr>\n",
       "    <tr>\n",
       "      <th>4</th>\n",
       "      <td>Sp_Atk</td>\n",
       "      <td>0.022796</td>\n",
       "    </tr>\n",
       "    <tr>\n",
       "      <th>15</th>\n",
       "      <td>Defensive_Stats</td>\n",
       "      <td>0.020063</td>\n",
       "    </tr>\n",
       "    <tr>\n",
       "      <th>3</th>\n",
       "      <td>Defense</td>\n",
       "      <td>0.012554</td>\n",
       "    </tr>\n",
       "    <tr>\n",
       "      <th>6</th>\n",
       "      <td>Speed</td>\n",
       "      <td>0.011344</td>\n",
       "    </tr>\n",
       "    <tr>\n",
       "      <th>13</th>\n",
       "      <td>2nd_Type</td>\n",
       "      <td>0.006550</td>\n",
       "    </tr>\n",
       "    <tr>\n",
       "      <th>5</th>\n",
       "      <td>Sp_Def</td>\n",
       "      <td>0.006504</td>\n",
       "    </tr>\n",
       "    <tr>\n",
       "      <th>12</th>\n",
       "      <td>hasMegaEvolution_True</td>\n",
       "      <td>0.005557</td>\n",
       "    </tr>\n",
       "  </tbody>\n",
       "</table>\n",
       "</div>"
      ],
      "text/plain": [
       "                 Features  Importance Score\n",
       "0                   Total          0.282662\n",
       "10             Catch_Rate          0.208183\n",
       "14        Offensive_Stats          0.105038\n",
       "7                 Pr_Male          0.078745\n",
       "8                Height_m          0.077587\n",
       "11         hasGender_True          0.068073\n",
       "9               Weight_kg          0.035399\n",
       "1                      HP          0.031315\n",
       "2                  Attack          0.027628\n",
       "4                  Sp_Atk          0.022796\n",
       "15        Defensive_Stats          0.020063\n",
       "3                 Defense          0.012554\n",
       "6                   Speed          0.011344\n",
       "13               2nd_Type          0.006550\n",
       "5                  Sp_Def          0.006504\n",
       "12  hasMegaEvolution_True          0.005557"
      ]
     },
     "execution_count": 99,
     "metadata": {},
     "output_type": "execute_result"
    }
   ],
   "source": [
    "X = poke_data\n",
    "y = poke_data['isLegendary_True']\n",
    "remove = ['isLegendary_True', 'Body_Style', 'Color', 'Egg_Group_1', 'Type_1']\n",
    "X.drop(remove, axis = 1, inplace=True)\n",
    "\n",
    "from sklearn.ensemble import RandomForestClassifier\n",
    "model = RandomForestClassifier(n_estimators = 20)\n",
    "model.fit(X, y)\n",
    "\n",
    "features = X.columns\n",
    "feature_importances = model.feature_importances_\n",
    "\n",
    "features_df = pd.DataFrame({'Features': features, 'Importance Score': feature_importances})\n",
    "features_df.sort_values('Importance Score', inplace=True, ascending=False)\n",
    "\n",
    "important_feat = features_df.head(100)\n",
    "important_feat"
   ]
  },
  {
   "cell_type": "markdown",
   "metadata": {},
   "source": [
    "**Null Accuracy** - Assuming I guessed Non-Legendary for each would give me ~93% accuracy."
   ]
  },
  {
   "cell_type": "code",
   "execution_count": 100,
   "metadata": {
    "collapsed": false,
    "scrolled": true
   },
   "outputs": [
    {
     "data": {
      "text/plain": [
       "0.9361997226074896"
      ]
     },
     "execution_count": 100,
     "metadata": {},
     "output_type": "execute_result"
    }
   ],
   "source": [
    "# Null accuracy.....How do you find the null f1 Score\n",
    "1-y.mean()"
   ]
  },
  {
   "cell_type": "code",
   "execution_count": 101,
   "metadata": {
    "collapsed": false
   },
   "outputs": [],
   "source": [
    "# Create a test and train split, making sure to stratify along the dependent variable. Making sure that I had a proportionate \n",
    "# sampling in my test set as to the overall data set.\n",
    "\n",
    "from sklearn.model_selection import train_test_split\n",
    "X_train, X_test, y_train, y_test = train_test_split(X, y, stratify=y, random_state=1)"
   ]
  },
  {
   "cell_type": "code",
   "execution_count": 102,
   "metadata": {
    "collapsed": true
   },
   "outputs": [],
   "source": [
    "# Used 10 splits, setting aside 30% for the testing, and I left random_state=1 to avoid constantly changing variables.\n",
    "\n",
    "from sklearn.model_selection import ShuffleSplit\n",
    "cv = ShuffleSplit(n_splits=10, test_size=0.3, random_state=1)"
   ]
  },
  {
   "cell_type": "code",
   "execution_count": 103,
   "metadata": {
    "collapsed": true
   },
   "outputs": [],
   "source": [
    "from sklearn.preprocessing import StandardScaler\n",
    "stdsc = StandardScaler()\n",
    "# transform our training features\n",
    "X_train_std = stdsc.fit_transform(X_train)\n",
    "# transform the testing features in the same way\n",
    "X_test_std = stdsc.transform(X_test)"
   ]
  },
  {
   "cell_type": "code",
   "execution_count": 104,
   "metadata": {
    "collapsed": false
   },
   "outputs": [],
   "source": [
    "# Used grid search to fine tune my model towards an f1 score. Finding the balance between Recall and Precision\n",
    "from sklearn.model_selection import GridSearchCV\n",
    "rf_model = RandomForestClassifier()        \n",
    "\n",
    "params = {'n_estimators': [10,20,30,40,50], 'max_depth': range(3,5), 'max_features': range(5,10)}\n",
    "clf = GridSearchCV(rf_model, params, cv=cv, scoring='f1_macro')\n",
    "output = clf.fit(X_train, y_train)"
   ]
  },
  {
   "cell_type": "code",
   "execution_count": 105,
   "metadata": {
    "collapsed": false
   },
   "outputs": [
    {
     "name": "stdout",
     "output_type": "stream",
     "text": [
      "{'max_features': 7, 'n_estimators': 40, 'max_depth': 3}\n",
      "0.933505664574\n",
      "RandomForestClassifier(bootstrap=True, class_weight=None, criterion='gini',\n",
      "            max_depth=3, max_features=7, max_leaf_nodes=None,\n",
      "            min_impurity_split=1e-07, min_samples_leaf=1,\n",
      "            min_samples_split=2, min_weight_fraction_leaf=0.0,\n",
      "            n_estimators=40, n_jobs=1, oob_score=False, random_state=None,\n",
      "            verbose=0, warm_start=False)\n"
     ]
    }
   ],
   "source": [
    "best_rf = clf.best_estimator_\n",
    "\n",
    "print clf.best_params_\n",
    "print clf.best_score_\n",
    "print best_rf"
   ]
  },
  {
   "cell_type": "markdown",
   "metadata": {},
   "source": [
    "**Cross Validation Scores** "
   ]
  },
  {
   "cell_type": "markdown",
   "metadata": {},
   "source": [
    "Average Cross Val Accuracy Score: .98"
   ]
  },
  {
   "cell_type": "code",
   "execution_count": 106,
   "metadata": {
    "collapsed": false
   },
   "outputs": [
    {
     "name": "stdout",
     "output_type": "stream",
     "text": [
      "CV Accuracy [ 1.          0.96363636  0.96363636  1.          0.98148148  1.          1.\n",
      "  0.98113208  0.98113208  1.        ], Average Accuracy 0.98710183597\n"
     ]
    }
   ],
   "source": [
    "# Accuracy is higher than just guessing which is a sign.\n",
    "\n",
    "from sklearn.model_selection import cross_val_score\n",
    "\n",
    "scores = cross_val_score(best_rf, X_train_std, y_train, cv=10, scoring='accuracy')\n",
    "print('CV Accuracy {}, Average Accuracy {}'.format(scores, scores.mean()))"
   ]
  },
  {
   "cell_type": "markdown",
   "metadata": {},
   "source": [
    "Average Cross Val F1 Score: .92"
   ]
  },
  {
   "cell_type": "code",
   "execution_count": 107,
   "metadata": {
    "collapsed": false,
    "scrolled": true
   },
   "outputs": [
    {
     "name": "stdout",
     "output_type": "stream",
     "text": [
      "CV F1 Score [ 1.          0.89        0.82371795  1.          0.92362093  1.          1.\n",
      "  0.92352092  0.92352092  1.        ], Average F1 Score 0.948438072928\n"
     ]
    }
   ],
   "source": [
    "scores_f1 = cross_val_score(best_rf, X_train_std, y_train, cv=10, scoring='f1_macro')\n",
    "print('CV F1 Score {}, Average F1 Score {}'.format(scores_f1, scores_f1.mean()))"
   ]
  },
  {
   "cell_type": "markdown",
   "metadata": {},
   "source": [
    "**Prediction Scores**\n",
    "    * Accuracy - .994\n",
    "    * F1       - .96"
   ]
  },
  {
   "cell_type": "code",
   "execution_count": 108,
   "metadata": {
    "collapsed": false
   },
   "outputs": [
    {
     "name": "stdout",
     "output_type": "stream",
     "text": [
      "0.994475138122\n",
      "0.96\n"
     ]
    }
   ],
   "source": [
    "from sklearn.metrics import accuracy_score\n",
    "from sklearn.metrics import f1_score\n",
    "pred = output.predict(X_test)\n",
    "score1 = accuracy_score(y_test,pred)\n",
    "print score1\n",
    "score2 = f1_score(y_test,pred)\n",
    "print score2"
   ]
  },
  {
   "cell_type": "markdown",
   "metadata": {},
   "source": [
    "** RANDOM FOREST - Only Physical Features**"
   ]
  },
  {
   "cell_type": "markdown",
   "metadata": {},
   "source": [
    "I realize it would be incredibly unrealistic for a device to somehow measure the strength and speed of a not yet discovered creature. Therefore, in this portion I have removed all features except for the physical traits. While in my EDA I found no strong correlation between legendary's and their attribute types; Gender, Height and Weight seemed to have fairly strong relationship, coupled with the more common Body Styles for Legendary's might be enough to help us make a prediction."
   ]
  },
  {
   "cell_type": "code",
   "execution_count": 109,
   "metadata": {
    "collapsed": false
   },
   "outputs": [
    {
     "data": {
      "text/html": [
       "<div>\n",
       "<table border=\"1\" class=\"dataframe\">\n",
       "  <thead>\n",
       "    <tr style=\"text-align: right;\">\n",
       "      <th></th>\n",
       "      <th>Height_m</th>\n",
       "      <th>Weight_kg</th>\n",
       "      <th>hasGender_True</th>\n",
       "      <th>isLegendary_True</th>\n",
       "      <th>Body_Style_bipedal_tailless</th>\n",
       "      <th>Body_Style_four_wings</th>\n",
       "      <th>Body_Style_head_arms</th>\n",
       "      <th>Body_Style_head_base</th>\n",
       "      <th>Body_Style_head_legs</th>\n",
       "      <th>Body_Style_head_only</th>\n",
       "      <th>Body_Style_insectoid</th>\n",
       "      <th>Body_Style_multiple_bodies</th>\n",
       "      <th>Body_Style_quadruped</th>\n",
       "      <th>Body_Style_serpentine_body</th>\n",
       "      <th>Body_Style_several_limbs</th>\n",
       "      <th>Body_Style_two_wings</th>\n",
       "      <th>Body_Style_with_fins</th>\n",
       "      <th>Type_1_Dark</th>\n",
       "      <th>Type_1_Dragon</th>\n",
       "      <th>Type_1_Electric</th>\n",
       "      <th>Type_1_Fairy</th>\n",
       "      <th>Type_1_Fighting</th>\n",
       "      <th>Type_1_Fire</th>\n",
       "      <th>Type_1_Flying</th>\n",
       "      <th>Type_1_Ghost</th>\n",
       "      <th>Type_1_Grass</th>\n",
       "      <th>Type_1_Ground</th>\n",
       "      <th>Type_1_Ice</th>\n",
       "      <th>Type_1_Normal</th>\n",
       "      <th>Type_1_Poison</th>\n",
       "      <th>Type_1_Psychic</th>\n",
       "      <th>Type_1_Rock</th>\n",
       "      <th>Type_1_Steel</th>\n",
       "      <th>Type_1_Water</th>\n",
       "    </tr>\n",
       "    <tr>\n",
       "      <th>Number</th>\n",
       "      <th></th>\n",
       "      <th></th>\n",
       "      <th></th>\n",
       "      <th></th>\n",
       "      <th></th>\n",
       "      <th></th>\n",
       "      <th></th>\n",
       "      <th></th>\n",
       "      <th></th>\n",
       "      <th></th>\n",
       "      <th></th>\n",
       "      <th></th>\n",
       "      <th></th>\n",
       "      <th></th>\n",
       "      <th></th>\n",
       "      <th></th>\n",
       "      <th></th>\n",
       "      <th></th>\n",
       "      <th></th>\n",
       "      <th></th>\n",
       "      <th></th>\n",
       "      <th></th>\n",
       "      <th></th>\n",
       "      <th></th>\n",
       "      <th></th>\n",
       "      <th></th>\n",
       "      <th></th>\n",
       "      <th></th>\n",
       "      <th></th>\n",
       "      <th></th>\n",
       "      <th></th>\n",
       "      <th></th>\n",
       "      <th></th>\n",
       "      <th></th>\n",
       "    </tr>\n",
       "  </thead>\n",
       "  <tbody>\n",
       "    <tr>\n",
       "      <th>1</th>\n",
       "      <td>0.71</td>\n",
       "      <td>6.9</td>\n",
       "      <td>1.0</td>\n",
       "      <td>0.0</td>\n",
       "      <td>0.0</td>\n",
       "      <td>0.0</td>\n",
       "      <td>0.0</td>\n",
       "      <td>0.0</td>\n",
       "      <td>0.0</td>\n",
       "      <td>0.0</td>\n",
       "      <td>0.0</td>\n",
       "      <td>0.0</td>\n",
       "      <td>1.0</td>\n",
       "      <td>0.0</td>\n",
       "      <td>0.0</td>\n",
       "      <td>0.0</td>\n",
       "      <td>0.0</td>\n",
       "      <td>0.0</td>\n",
       "      <td>0.0</td>\n",
       "      <td>0.0</td>\n",
       "      <td>0.0</td>\n",
       "      <td>0.0</td>\n",
       "      <td>0.0</td>\n",
       "      <td>0.0</td>\n",
       "      <td>0.0</td>\n",
       "      <td>1.0</td>\n",
       "      <td>0.0</td>\n",
       "      <td>0.0</td>\n",
       "      <td>0.0</td>\n",
       "      <td>0.0</td>\n",
       "      <td>0.0</td>\n",
       "      <td>0.0</td>\n",
       "      <td>0.0</td>\n",
       "      <td>0.0</td>\n",
       "    </tr>\n",
       "  </tbody>\n",
       "</table>\n",
       "</div>"
      ],
      "text/plain": [
       "        Height_m  Weight_kg  hasGender_True  isLegendary_True  \\\n",
       "Number                                                          \n",
       "1           0.71        6.9             1.0               0.0   \n",
       "\n",
       "        Body_Style_bipedal_tailless  Body_Style_four_wings  \\\n",
       "Number                                                       \n",
       "1                               0.0                    0.0   \n",
       "\n",
       "        Body_Style_head_arms  Body_Style_head_base  Body_Style_head_legs  \\\n",
       "Number                                                                     \n",
       "1                        0.0                   0.0                   0.0   \n",
       "\n",
       "        Body_Style_head_only  Body_Style_insectoid  \\\n",
       "Number                                               \n",
       "1                        0.0                   0.0   \n",
       "\n",
       "        Body_Style_multiple_bodies  Body_Style_quadruped  \\\n",
       "Number                                                     \n",
       "1                              0.0                   1.0   \n",
       "\n",
       "        Body_Style_serpentine_body  Body_Style_several_limbs  \\\n",
       "Number                                                         \n",
       "1                              0.0                       0.0   \n",
       "\n",
       "        Body_Style_two_wings  Body_Style_with_fins  Type_1_Dark  \\\n",
       "Number                                                            \n",
       "1                        0.0                   0.0          0.0   \n",
       "\n",
       "        Type_1_Dragon  Type_1_Electric  Type_1_Fairy  Type_1_Fighting  \\\n",
       "Number                                                                  \n",
       "1                 0.0              0.0           0.0              0.0   \n",
       "\n",
       "        Type_1_Fire  Type_1_Flying  Type_1_Ghost  Type_1_Grass  Type_1_Ground  \\\n",
       "Number                                                                          \n",
       "1               0.0            0.0           0.0           1.0            0.0   \n",
       "\n",
       "        Type_1_Ice  Type_1_Normal  Type_1_Poison  Type_1_Psychic  Type_1_Rock  \\\n",
       "Number                                                                          \n",
       "1              0.0            0.0            0.0             0.0          0.0   \n",
       "\n",
       "        Type_1_Steel  Type_1_Water  \n",
       "Number                              \n",
       "1                0.0           0.0  "
      ]
     },
     "execution_count": 109,
     "metadata": {},
     "output_type": "execute_result"
    }
   ],
   "source": [
    "# Stripping away all attributes that aren't physical\n",
    "\n",
    "remove_stats = ['Total','HP','Attack','Defense','Sp_Atk','Sp_Def','Speed','2nd_Type','Offensive_Stats','Defensive_Stats',\n",
    "                'hasMegaEvolution_True','Catch_Rate','Pr_Male','Egg_Group_1','Color']\n",
    "poke_data3.drop(remove_stats, axis=1, inplace=True)\n",
    "poke_data3.head(1)"
   ]
  },
  {
   "cell_type": "code",
   "execution_count": 110,
   "metadata": {
    "collapsed": false
   },
   "outputs": [
    {
     "data": {
      "text/html": [
       "<div>\n",
       "<table border=\"1\" class=\"dataframe\">\n",
       "  <thead>\n",
       "    <tr style=\"text-align: right;\">\n",
       "      <th></th>\n",
       "      <th>Features</th>\n",
       "      <th>Importance Score</th>\n",
       "    </tr>\n",
       "  </thead>\n",
       "  <tbody>\n",
       "    <tr>\n",
       "      <th>2</th>\n",
       "      <td>hasGender_True</td>\n",
       "      <td>0.310012</td>\n",
       "    </tr>\n",
       "    <tr>\n",
       "      <th>0</th>\n",
       "      <td>Height_m</td>\n",
       "      <td>0.221563</td>\n",
       "    </tr>\n",
       "    <tr>\n",
       "      <th>1</th>\n",
       "      <td>Weight_kg</td>\n",
       "      <td>0.195898</td>\n",
       "    </tr>\n",
       "    <tr>\n",
       "      <th>5</th>\n",
       "      <td>Body_Style_head_arms</td>\n",
       "      <td>0.028876</td>\n",
       "    </tr>\n",
       "    <tr>\n",
       "      <th>14</th>\n",
       "      <td>Body_Style_two_wings</td>\n",
       "      <td>0.025441</td>\n",
       "    </tr>\n",
       "    <tr>\n",
       "      <th>31</th>\n",
       "      <td>Type_1_Steel</td>\n",
       "      <td>0.019199</td>\n",
       "    </tr>\n",
       "    <tr>\n",
       "      <th>11</th>\n",
       "      <td>Body_Style_quadruped</td>\n",
       "      <td>0.019019</td>\n",
       "    </tr>\n",
       "    <tr>\n",
       "      <th>29</th>\n",
       "      <td>Type_1_Psychic</td>\n",
       "      <td>0.018611</td>\n",
       "    </tr>\n",
       "    <tr>\n",
       "      <th>8</th>\n",
       "      <td>Body_Style_head_only</td>\n",
       "      <td>0.016026</td>\n",
       "    </tr>\n",
       "    <tr>\n",
       "      <th>17</th>\n",
       "      <td>Type_1_Dragon</td>\n",
       "      <td>0.015987</td>\n",
       "    </tr>\n",
       "    <tr>\n",
       "      <th>3</th>\n",
       "      <td>Body_Style_bipedal_tailless</td>\n",
       "      <td>0.015277</td>\n",
       "    </tr>\n",
       "    <tr>\n",
       "      <th>18</th>\n",
       "      <td>Type_1_Electric</td>\n",
       "      <td>0.013323</td>\n",
       "    </tr>\n",
       "    <tr>\n",
       "      <th>25</th>\n",
       "      <td>Type_1_Ground</td>\n",
       "      <td>0.011034</td>\n",
       "    </tr>\n",
       "    <tr>\n",
       "      <th>22</th>\n",
       "      <td>Type_1_Flying</td>\n",
       "      <td>0.010843</td>\n",
       "    </tr>\n",
       "    <tr>\n",
       "      <th>30</th>\n",
       "      <td>Type_1_Rock</td>\n",
       "      <td>0.010575</td>\n",
       "    </tr>\n",
       "    <tr>\n",
       "      <th>26</th>\n",
       "      <td>Type_1_Ice</td>\n",
       "      <td>0.010524</td>\n",
       "    </tr>\n",
       "    <tr>\n",
       "      <th>32</th>\n",
       "      <td>Type_1_Water</td>\n",
       "      <td>0.008604</td>\n",
       "    </tr>\n",
       "    <tr>\n",
       "      <th>12</th>\n",
       "      <td>Body_Style_serpentine_body</td>\n",
       "      <td>0.007827</td>\n",
       "    </tr>\n",
       "    <tr>\n",
       "      <th>27</th>\n",
       "      <td>Type_1_Normal</td>\n",
       "      <td>0.006344</td>\n",
       "    </tr>\n",
       "    <tr>\n",
       "      <th>16</th>\n",
       "      <td>Type_1_Dark</td>\n",
       "      <td>0.006303</td>\n",
       "    </tr>\n",
       "    <tr>\n",
       "      <th>24</th>\n",
       "      <td>Type_1_Grass</td>\n",
       "      <td>0.005413</td>\n",
       "    </tr>\n",
       "    <tr>\n",
       "      <th>6</th>\n",
       "      <td>Body_Style_head_base</td>\n",
       "      <td>0.004302</td>\n",
       "    </tr>\n",
       "    <tr>\n",
       "      <th>28</th>\n",
       "      <td>Type_1_Poison</td>\n",
       "      <td>0.003958</td>\n",
       "    </tr>\n",
       "    <tr>\n",
       "      <th>10</th>\n",
       "      <td>Body_Style_multiple_bodies</td>\n",
       "      <td>0.003463</td>\n",
       "    </tr>\n",
       "    <tr>\n",
       "      <th>7</th>\n",
       "      <td>Body_Style_head_legs</td>\n",
       "      <td>0.002356</td>\n",
       "    </tr>\n",
       "    <tr>\n",
       "      <th>19</th>\n",
       "      <td>Type_1_Fairy</td>\n",
       "      <td>0.002234</td>\n",
       "    </tr>\n",
       "    <tr>\n",
       "      <th>21</th>\n",
       "      <td>Type_1_Fire</td>\n",
       "      <td>0.002228</td>\n",
       "    </tr>\n",
       "    <tr>\n",
       "      <th>15</th>\n",
       "      <td>Body_Style_with_fins</td>\n",
       "      <td>0.002151</td>\n",
       "    </tr>\n",
       "    <tr>\n",
       "      <th>9</th>\n",
       "      <td>Body_Style_insectoid</td>\n",
       "      <td>0.001234</td>\n",
       "    </tr>\n",
       "    <tr>\n",
       "      <th>23</th>\n",
       "      <td>Type_1_Ghost</td>\n",
       "      <td>0.001215</td>\n",
       "    </tr>\n",
       "    <tr>\n",
       "      <th>20</th>\n",
       "      <td>Type_1_Fighting</td>\n",
       "      <td>0.000121</td>\n",
       "    </tr>\n",
       "    <tr>\n",
       "      <th>4</th>\n",
       "      <td>Body_Style_four_wings</td>\n",
       "      <td>0.000032</td>\n",
       "    </tr>\n",
       "    <tr>\n",
       "      <th>13</th>\n",
       "      <td>Body_Style_several_limbs</td>\n",
       "      <td>0.000008</td>\n",
       "    </tr>\n",
       "  </tbody>\n",
       "</table>\n",
       "</div>"
      ],
      "text/plain": [
       "                       Features  Importance Score\n",
       "2                hasGender_True          0.310012\n",
       "0                      Height_m          0.221563\n",
       "1                     Weight_kg          0.195898\n",
       "5          Body_Style_head_arms          0.028876\n",
       "14         Body_Style_two_wings          0.025441\n",
       "31                 Type_1_Steel          0.019199\n",
       "11         Body_Style_quadruped          0.019019\n",
       "29               Type_1_Psychic          0.018611\n",
       "8          Body_Style_head_only          0.016026\n",
       "17                Type_1_Dragon          0.015987\n",
       "3   Body_Style_bipedal_tailless          0.015277\n",
       "18              Type_1_Electric          0.013323\n",
       "25                Type_1_Ground          0.011034\n",
       "22                Type_1_Flying          0.010843\n",
       "30                  Type_1_Rock          0.010575\n",
       "26                   Type_1_Ice          0.010524\n",
       "32                 Type_1_Water          0.008604\n",
       "12   Body_Style_serpentine_body          0.007827\n",
       "27                Type_1_Normal          0.006344\n",
       "16                  Type_1_Dark          0.006303\n",
       "24                 Type_1_Grass          0.005413\n",
       "6          Body_Style_head_base          0.004302\n",
       "28                Type_1_Poison          0.003958\n",
       "10   Body_Style_multiple_bodies          0.003463\n",
       "7          Body_Style_head_legs          0.002356\n",
       "19                 Type_1_Fairy          0.002234\n",
       "21                  Type_1_Fire          0.002228\n",
       "15         Body_Style_with_fins          0.002151\n",
       "9          Body_Style_insectoid          0.001234\n",
       "23                 Type_1_Ghost          0.001215\n",
       "20              Type_1_Fighting          0.000121\n",
       "4         Body_Style_four_wings          0.000032\n",
       "13     Body_Style_several_limbs          0.000008"
      ]
     },
     "execution_count": 110,
     "metadata": {},
     "output_type": "execute_result"
    }
   ],
   "source": [
    "X2 = poke_data3\n",
    "y2 = poke_data3['isLegendary_True']\n",
    "remove2 = ['isLegendary_True']\n",
    "X2.drop(remove2, axis = 1, inplace=True)\n",
    "\n",
    "from sklearn.ensemble import RandomForestClassifier\n",
    "model2 = RandomForestClassifier(n_estimators = 20)\n",
    "model.fit(X2, y2)\n",
    "\n",
    "features = X2.columns\n",
    "feature_importances = model.feature_importances_\n",
    "\n",
    "features_df = pd.DataFrame({'Features': features, 'Importance Score': feature_importances})\n",
    "features_df.sort_values('Importance Score', inplace=True, ascending=False)\n",
    "\n",
    "important_feat = features_df.head(100)\n",
    "important_feat"
   ]
  },
  {
   "cell_type": "code",
   "execution_count": 111,
   "metadata": {
    "collapsed": false
   },
   "outputs": [],
   "source": [
    "important_feat2 = important_feat.iloc[0:-20]\n",
    "features = important_feat2.iloc[:,0]"
   ]
  },
  {
   "cell_type": "code",
   "execution_count": 112,
   "metadata": {
    "collapsed": false
   },
   "outputs": [
    {
     "data": {
      "text/html": [
       "<div>\n",
       "<table border=\"1\" class=\"dataframe\">\n",
       "  <thead>\n",
       "    <tr style=\"text-align: right;\">\n",
       "      <th></th>\n",
       "      <th>hasGender_True</th>\n",
       "      <th>Height_m</th>\n",
       "      <th>Weight_kg</th>\n",
       "      <th>Body_Style_head_arms</th>\n",
       "      <th>Body_Style_two_wings</th>\n",
       "      <th>Type_1_Steel</th>\n",
       "      <th>Body_Style_quadruped</th>\n",
       "      <th>Type_1_Psychic</th>\n",
       "      <th>Body_Style_head_only</th>\n",
       "      <th>Type_1_Dragon</th>\n",
       "      <th>Body_Style_bipedal_tailless</th>\n",
       "      <th>Type_1_Electric</th>\n",
       "      <th>Type_1_Ground</th>\n",
       "    </tr>\n",
       "    <tr>\n",
       "      <th>Number</th>\n",
       "      <th></th>\n",
       "      <th></th>\n",
       "      <th></th>\n",
       "      <th></th>\n",
       "      <th></th>\n",
       "      <th></th>\n",
       "      <th></th>\n",
       "      <th></th>\n",
       "      <th></th>\n",
       "      <th></th>\n",
       "      <th></th>\n",
       "      <th></th>\n",
       "      <th></th>\n",
       "    </tr>\n",
       "  </thead>\n",
       "  <tbody>\n",
       "    <tr>\n",
       "      <th>1</th>\n",
       "      <td>1.0</td>\n",
       "      <td>0.71</td>\n",
       "      <td>6.9</td>\n",
       "      <td>0.0</td>\n",
       "      <td>0.0</td>\n",
       "      <td>0.0</td>\n",
       "      <td>1.0</td>\n",
       "      <td>0.0</td>\n",
       "      <td>0.0</td>\n",
       "      <td>0.0</td>\n",
       "      <td>0.0</td>\n",
       "      <td>0.0</td>\n",
       "      <td>0.0</td>\n",
       "    </tr>\n",
       "    <tr>\n",
       "      <th>2</th>\n",
       "      <td>1.0</td>\n",
       "      <td>0.99</td>\n",
       "      <td>13.0</td>\n",
       "      <td>0.0</td>\n",
       "      <td>0.0</td>\n",
       "      <td>0.0</td>\n",
       "      <td>1.0</td>\n",
       "      <td>0.0</td>\n",
       "      <td>0.0</td>\n",
       "      <td>0.0</td>\n",
       "      <td>0.0</td>\n",
       "      <td>0.0</td>\n",
       "      <td>0.0</td>\n",
       "    </tr>\n",
       "    <tr>\n",
       "      <th>3</th>\n",
       "      <td>1.0</td>\n",
       "      <td>2.01</td>\n",
       "      <td>100.0</td>\n",
       "      <td>0.0</td>\n",
       "      <td>0.0</td>\n",
       "      <td>0.0</td>\n",
       "      <td>1.0</td>\n",
       "      <td>0.0</td>\n",
       "      <td>0.0</td>\n",
       "      <td>0.0</td>\n",
       "      <td>0.0</td>\n",
       "      <td>0.0</td>\n",
       "      <td>0.0</td>\n",
       "    </tr>\n",
       "    <tr>\n",
       "      <th>4</th>\n",
       "      <td>1.0</td>\n",
       "      <td>0.61</td>\n",
       "      <td>8.5</td>\n",
       "      <td>0.0</td>\n",
       "      <td>0.0</td>\n",
       "      <td>0.0</td>\n",
       "      <td>0.0</td>\n",
       "      <td>0.0</td>\n",
       "      <td>0.0</td>\n",
       "      <td>0.0</td>\n",
       "      <td>0.0</td>\n",
       "      <td>0.0</td>\n",
       "      <td>0.0</td>\n",
       "    </tr>\n",
       "    <tr>\n",
       "      <th>5</th>\n",
       "      <td>1.0</td>\n",
       "      <td>1.09</td>\n",
       "      <td>19.0</td>\n",
       "      <td>0.0</td>\n",
       "      <td>0.0</td>\n",
       "      <td>0.0</td>\n",
       "      <td>0.0</td>\n",
       "      <td>0.0</td>\n",
       "      <td>0.0</td>\n",
       "      <td>0.0</td>\n",
       "      <td>0.0</td>\n",
       "      <td>0.0</td>\n",
       "      <td>0.0</td>\n",
       "    </tr>\n",
       "  </tbody>\n",
       "</table>\n",
       "</div>"
      ],
      "text/plain": [
       "        hasGender_True  Height_m  Weight_kg  Body_Style_head_arms  \\\n",
       "Number                                                              \n",
       "1                  1.0      0.71        6.9                   0.0   \n",
       "2                  1.0      0.99       13.0                   0.0   \n",
       "3                  1.0      2.01      100.0                   0.0   \n",
       "4                  1.0      0.61        8.5                   0.0   \n",
       "5                  1.0      1.09       19.0                   0.0   \n",
       "\n",
       "        Body_Style_two_wings  Type_1_Steel  Body_Style_quadruped  \\\n",
       "Number                                                             \n",
       "1                        0.0           0.0                   1.0   \n",
       "2                        0.0           0.0                   1.0   \n",
       "3                        0.0           0.0                   1.0   \n",
       "4                        0.0           0.0                   0.0   \n",
       "5                        0.0           0.0                   0.0   \n",
       "\n",
       "        Type_1_Psychic  Body_Style_head_only  Type_1_Dragon  \\\n",
       "Number                                                        \n",
       "1                  0.0                   0.0            0.0   \n",
       "2                  0.0                   0.0            0.0   \n",
       "3                  0.0                   0.0            0.0   \n",
       "4                  0.0                   0.0            0.0   \n",
       "5                  0.0                   0.0            0.0   \n",
       "\n",
       "        Body_Style_bipedal_tailless  Type_1_Electric  Type_1_Ground  \n",
       "Number                                                               \n",
       "1                               0.0              0.0            0.0  \n",
       "2                               0.0              0.0            0.0  \n",
       "3                               0.0              0.0            0.0  \n",
       "4                               0.0              0.0            0.0  \n",
       "5                               0.0              0.0            0.0  "
      ]
     },
     "execution_count": 112,
     "metadata": {},
     "output_type": "execute_result"
    }
   ],
   "source": [
    "X2_features = X2[features]\n",
    "X2_features.head()"
   ]
  },
  {
   "cell_type": "code",
   "execution_count": 113,
   "metadata": {
    "collapsed": false
   },
   "outputs": [],
   "source": [
    "from sklearn.model_selection import train_test_split\n",
    "from sklearn.model_selection import ShuffleSplit\n",
    "\n",
    "X_train2, X_test2, y_train2, y_test2 = train_test_split(X2_features, y2, stratify=y2, random_state=1)\n",
    "cv = ShuffleSplit(n_splits=10, test_size=0.3, random_state=1)"
   ]
  },
  {
   "cell_type": "code",
   "execution_count": 114,
   "metadata": {
    "collapsed": true
   },
   "outputs": [],
   "source": [
    "from sklearn.preprocessing import StandardScaler\n",
    "stdsc = StandardScaler()\n",
    "# transform our training features\n",
    "X_train_std2 = stdsc.fit_transform(X_train2)\n",
    "# transform the testing features in the same way\n",
    "X_test_std2 = stdsc.transform(X_test2)"
   ]
  },
  {
   "cell_type": "code",
   "execution_count": 115,
   "metadata": {
    "collapsed": false
   },
   "outputs": [],
   "source": [
    "from sklearn.model_selection import GridSearchCV\n",
    "rf_model2 = RandomForestClassifier()        \n",
    "\n",
    "params = {'n_estimators': [80,90,100], 'max_depth': range(3,6), 'max_features': range(5,13)}\n",
    "clf2 = GridSearchCV(rf_model2, params, cv=cv, scoring='f1_macro')\n",
    "output2 = clf2.fit(X_train_std2, y_train2)"
   ]
  },
  {
   "cell_type": "code",
   "execution_count": 116,
   "metadata": {
    "collapsed": false
   },
   "outputs": [
    {
     "name": "stdout",
     "output_type": "stream",
     "text": [
      "{'max_features': 7, 'n_estimators': 90, 'max_depth': 3}\n",
      "0.854544335757\n",
      "RandomForestClassifier(bootstrap=True, class_weight=None, criterion='gini',\n",
      "            max_depth=3, max_features=7, max_leaf_nodes=None,\n",
      "            min_impurity_split=1e-07, min_samples_leaf=1,\n",
      "            min_samples_split=2, min_weight_fraction_leaf=0.0,\n",
      "            n_estimators=90, n_jobs=1, oob_score=False, random_state=None,\n",
      "            verbose=0, warm_start=False)\n"
     ]
    }
   ],
   "source": [
    "best_params = clf2.best_estimator_\n",
    "\n",
    "print clf2.best_params_\n",
    "print clf2.best_score_\n",
    "print best_params"
   ]
  },
  {
   "cell_type": "markdown",
   "metadata": {},
   "source": [
    "**Cross Validation Scores** "
   ]
  },
  {
   "cell_type": "markdown",
   "metadata": {},
   "source": [
    "Average Cross Val Accuracy Score: .97"
   ]
  },
  {
   "cell_type": "code",
   "execution_count": 117,
   "metadata": {
    "collapsed": false
   },
   "outputs": [
    {
     "name": "stdout",
     "output_type": "stream",
     "text": [
      "CV Accuracy [ 0.96363636  0.94545455  0.98181818  0.98181818  0.96296296  0.98148148\n",
      "  1.          0.96226415  0.96226415  0.96226415], Average Accuracy Score 0.970396417\n"
     ]
    }
   ],
   "source": [
    "scores_Acc_1 = cross_val_score(best_params, X_train_std2, y_train2, cv=10, scoring='accuracy')\n",
    "print('CV Accuracy {}, Average Accuracy Score {}'.format(scores_Acc_1, scores_Acc_1.mean()))"
   ]
  },
  {
   "cell_type": "markdown",
   "metadata": {},
   "source": [
    "Average Cross Val F1 Score: .85"
   ]
  },
  {
   "cell_type": "code",
   "execution_count": 118,
   "metadata": {
    "collapsed": false
   },
   "outputs": [
    {
     "name": "stdout",
     "output_type": "stream",
     "text": [
      "CV F1 Score [ 0.82371795  0.82371795  0.92371706  0.92371706  0.89514563  0.89514563\n",
      "  1.          0.82333333  0.74019608  0.74019608], Average F1 Score 0.858888676905\n"
     ]
    }
   ],
   "source": [
    "scores_F1_1 = cross_val_score(best_params, X_train_std2, y_train2, cv=10, scoring='f1_macro')\n",
    "print('CV F1 Score {}, Average F1 Score {}'.format(scores_F1_1, scores_F1_1.mean()))"
   ]
  },
  {
   "cell_type": "markdown",
   "metadata": {},
   "source": [
    "**Prediction Scores**\n",
    "    * Accuracy - .98\n",
    "    * F1       - .86"
   ]
  },
  {
   "cell_type": "code",
   "execution_count": 119,
   "metadata": {
    "collapsed": false
   },
   "outputs": [
    {
     "name": "stdout",
     "output_type": "stream",
     "text": [
      "0.983425414365\n",
      "0.857142857143\n"
     ]
    }
   ],
   "source": [
    "from sklearn.metrics import accuracy_score\n",
    "from sklearn.metrics import f1_score\n",
    "pred2 = output2.predict(X_test_std2)\n",
    "score3 = accuracy_score(y_test2,pred2)\n",
    "print score3\n",
    "score4 = f1_score(y_test2,pred2)\n",
    "print score4"
   ]
  },
  {
   "cell_type": "markdown",
   "metadata": {},
   "source": [
    "**Logistic Regression**"
   ]
  },
  {
   "cell_type": "markdown",
   "metadata": {},
   "source": [
    "To be able to further explain my findings to the poke-community I decided to run a logistic regression so I would be able to find a direct coefficient for each variable and show which play a larger role in the model."
   ]
  },
  {
   "cell_type": "code",
   "execution_count": 78,
   "metadata": {
    "collapsed": false
   },
   "outputs": [],
   "source": [
    "from sklearn.linear_model import LogisticRegression\n",
    "from sklearn.model_selection import GridSearchCV\n",
    "logreg = LogisticRegression(penalty='l2', C=10)      \n",
    "\n",
    "params2 = {'penalty': ['l1'], 'C': range(1,10), 'class_weight': [None, 'balanced']}\n",
    "logit = GridSearchCV(logreg, params2, cv=cv, scoring='f1_macro')\n",
    "output3 = logit.fit(X_train_std2, y_train2)"
   ]
  },
  {
   "cell_type": "code",
   "execution_count": 79,
   "metadata": {
    "collapsed": false
   },
   "outputs": [
    {
     "name": "stdout",
     "output_type": "stream",
     "text": [
      "{'penalty': 'l1', 'C': 1, 'class_weight': None}\n",
      "0.818082006664\n",
      "LogisticRegression(C=1, class_weight=None, dual=False, fit_intercept=True,\n",
      "          intercept_scaling=1, max_iter=100, multi_class='ovr', n_jobs=1,\n",
      "          penalty='l1', random_state=None, solver='liblinear', tol=0.0001,\n",
      "          verbose=0, warm_start=False)\n"
     ]
    }
   ],
   "source": [
    "best_logit_param = logit.best_estimator_\n",
    "\n",
    "print logit.best_params_\n",
    "print logit.best_score_\n",
    "print best_logit_param"
   ]
  },
  {
   "cell_type": "code",
   "execution_count": 80,
   "metadata": {
    "collapsed": false,
    "scrolled": true
   },
   "outputs": [
    {
     "name": "stdout",
     "output_type": "stream",
     "text": [
      "CV F1 Score [ 0.82371795  0.73039216  0.92371706  0.73039216  0.7708628   0.74038462\n",
      "  0.92352092  0.82333333  0.82333333  0.48543689], Average F1 Score 0.777509122142\n"
     ]
    }
   ],
   "source": [
    "scores_log = cross_val_score(best_logit_param, X_train_std2, y_train2, cv=10, scoring='f1_macro')\n",
    "print('CV F1 Score {}, Average F1 Score {}'.format(scores_log, scores_log.mean()))"
   ]
  },
  {
   "cell_type": "markdown",
   "metadata": {},
   "source": [
    "**Prediction Scores**\n",
    "    * Accuracy - .978\n",
    "    * F1       - .8"
   ]
  },
  {
   "cell_type": "code",
   "execution_count": 81,
   "metadata": {
    "collapsed": false
   },
   "outputs": [
    {
     "name": "stdout",
     "output_type": "stream",
     "text": [
      "0.977900552486\n",
      "0.8\n"
     ]
    }
   ],
   "source": [
    "from sklearn.metrics import accuracy_score\n",
    "from sklearn.metrics import f1_score\n",
    "pred_log = output3.predict(X_test_std2)\n",
    "\n",
    "score_Acc_2 = accuracy_score(y_test2,pred_log)\n",
    "print score_Acc_2\n",
    "score_F1_2 = f1_score(y_test2,pred_log)\n",
    "print score_F1_2"
   ]
  },
  {
   "cell_type": "code",
   "execution_count": 82,
   "metadata": {
    "collapsed": false,
    "scrolled": true
   },
   "outputs": [
    {
     "data": {
      "text/plain": [
       "array([[-1.30509967,  0.31808118,  0.3867575 ,  0.4367065 ,  0.74501692,\n",
       "         0.77664725,  0.50662588,  0.37856076, -0.04087109, -0.20998001,\n",
       "         0.        ,  0.        ,  0.32315647]])"
      ]
     },
     "execution_count": 82,
     "metadata": {},
     "output_type": "execute_result"
    }
   ],
   "source": [
    "best_logit_param.coef_"
   ]
  },
  {
   "cell_type": "code",
   "execution_count": 83,
   "metadata": {
    "collapsed": false
   },
   "outputs": [
    {
     "data": {
      "text/html": [
       "<div>\n",
       "<table border=\"1\" class=\"dataframe\">\n",
       "  <thead>\n",
       "    <tr style=\"text-align: right;\">\n",
       "      <th></th>\n",
       "      <th>coefficients</th>\n",
       "      <th>features</th>\n",
       "      <th>log_odds</th>\n",
       "    </tr>\n",
       "  </thead>\n",
       "  <tbody>\n",
       "    <tr>\n",
       "      <th>0</th>\n",
       "      <td>-1.305100</td>\n",
       "      <td>hasGender_True</td>\n",
       "      <td>0.271146</td>\n",
       "    </tr>\n",
       "    <tr>\n",
       "      <th>1</th>\n",
       "      <td>0.318081</td>\n",
       "      <td>Height_m</td>\n",
       "      <td>1.374488</td>\n",
       "    </tr>\n",
       "    <tr>\n",
       "      <th>2</th>\n",
       "      <td>0.386758</td>\n",
       "      <td>Weight_kg</td>\n",
       "      <td>1.472199</td>\n",
       "    </tr>\n",
       "    <tr>\n",
       "      <th>3</th>\n",
       "      <td>0.436706</td>\n",
       "      <td>Body_Style_head_arms</td>\n",
       "      <td>1.547602</td>\n",
       "    </tr>\n",
       "    <tr>\n",
       "      <th>4</th>\n",
       "      <td>0.745017</td>\n",
       "      <td>Body_Style_two_wings</td>\n",
       "      <td>2.106477</td>\n",
       "    </tr>\n",
       "    <tr>\n",
       "      <th>5</th>\n",
       "      <td>0.776647</td>\n",
       "      <td>Body_Style_quadruped</td>\n",
       "      <td>2.174171</td>\n",
       "    </tr>\n",
       "    <tr>\n",
       "      <th>6</th>\n",
       "      <td>0.506626</td>\n",
       "      <td>Type_1_Dragon</td>\n",
       "      <td>1.659682</td>\n",
       "    </tr>\n",
       "    <tr>\n",
       "      <th>7</th>\n",
       "      <td>0.378561</td>\n",
       "      <td>Body_Style_bipedal_tailless</td>\n",
       "      <td>1.460182</td>\n",
       "    </tr>\n",
       "    <tr>\n",
       "      <th>8</th>\n",
       "      <td>-0.040871</td>\n",
       "      <td>Type_1_Electric</td>\n",
       "      <td>0.959953</td>\n",
       "    </tr>\n",
       "    <tr>\n",
       "      <th>9</th>\n",
       "      <td>-0.209980</td>\n",
       "      <td>Type_1_Ground</td>\n",
       "      <td>0.810600</td>\n",
       "    </tr>\n",
       "    <tr>\n",
       "      <th>10</th>\n",
       "      <td>0.000000</td>\n",
       "      <td>Type_1_Rock</td>\n",
       "      <td>1.000000</td>\n",
       "    </tr>\n",
       "    <tr>\n",
       "      <th>11</th>\n",
       "      <td>0.000000</td>\n",
       "      <td>Body_Style_head_only</td>\n",
       "      <td>1.000000</td>\n",
       "    </tr>\n",
       "    <tr>\n",
       "      <th>12</th>\n",
       "      <td>0.323156</td>\n",
       "      <td>Type_1_Psychic</td>\n",
       "      <td>1.381481</td>\n",
       "    </tr>\n",
       "  </tbody>\n",
       "</table>\n",
       "</div>"
      ],
      "text/plain": [
       "    coefficients                     features  log_odds\n",
       "0      -1.305100               hasGender_True  0.271146\n",
       "1       0.318081                     Height_m  1.374488\n",
       "2       0.386758                    Weight_kg  1.472199\n",
       "3       0.436706         Body_Style_head_arms  1.547602\n",
       "4       0.745017         Body_Style_two_wings  2.106477\n",
       "5       0.776647         Body_Style_quadruped  2.174171\n",
       "6       0.506626                Type_1_Dragon  1.659682\n",
       "7       0.378561  Body_Style_bipedal_tailless  1.460182\n",
       "8      -0.040871              Type_1_Electric  0.959953\n",
       "9      -0.209980                Type_1_Ground  0.810600\n",
       "10      0.000000                  Type_1_Rock  1.000000\n",
       "11      0.000000         Body_Style_head_only  1.000000\n",
       "12      0.323156               Type_1_Psychic  1.381481"
      ]
     },
     "execution_count": 83,
     "metadata": {},
     "output_type": "execute_result"
    }
   ],
   "source": [
    "# Clear coefficiencts of each physical feature\n",
    "pd.DataFrame({'features': X2_features.columns, 'coefficients': best_logit_param.coef_[0], 'log_odds': np.exp(best_logit_param.coef_[0])})"
   ]
  },
  {
   "cell_type": "markdown",
   "metadata": {
    "collapsed": true
   },
   "source": [
    "## **5) Summary **"
   ]
  },
  {
   "cell_type": "markdown",
   "metadata": {},
   "source": [
    "**Results**\n",
    "\n",
    "Working almost in the reverse order in which you would want to tune a model I actually saw decreasing performance in regards to Accuracy and F1 Score. However, my model is much closer to match the use case for the Pokedex. \n",
    "\n",
    "Using the null hypothesis (assuming all Pokemon are non legendary) I would be correct 93% of the time. Which means my accuracy would need to be higher than that benchmark. Additionally, I tuned each of my models towards a F1 score which is the mean of Recall (true positives out of the guesses) and Precision (true positives out of those that should have been positive).\n",
    "\n",
    "1) Using all of the highest importance features : \n",
    "    \n",
    "  **Prediction Scores**\n",
    "        * Accuracy Score - .99\n",
    "        * F1 Score       - .96\n",
    "        \n",
    "2) Using solely physical features:\n",
    "\n",
    "  **Prediction Scores**\n",
    "        * Accuracy Score - .98\n",
    "        * F1 Score       - .86\n",
    "        \n",
    "3) Logistic Regression physical features:\n",
    "    \n",
    "  **Prediction Scores**\n",
    "        * Accuracy Score - .978\n",
    "        * F1 Score       - .8"
   ]
  },
  {
   "cell_type": "markdown",
   "metadata": {},
   "source": [
    "**Learning Curve**"
   ]
  },
  {
   "cell_type": "code",
   "execution_count": 84,
   "metadata": {
    "collapsed": false
   },
   "outputs": [
    {
     "data": {
      "image/png": "[encoded data removed]",
      "text/plain": [
       "<matplotlib.figure.Figure at 0xde7b240>"
      ]
     },
     "metadata": {},
     "output_type": "display_data"
    }
   ],
   "source": [
    "# Using a learning curve model we can see that there is a lift in score with the addition of new observations but it looks like \n",
    "# it begins to level off after a certain point 400 observat\n",
    "\n",
    "from sk_modelcurves.learning_curve import draw_learning_curve\n",
    "\n",
    "draw_learning_curve(best_logit_param, X2_features, y2, scoring='f1_macro', cv=cv);"
   ]
  },
  {
   "cell_type": "markdown",
   "metadata": {
    "collapsed": true
   },
   "source": [
    "**Key Take Aways**\n",
    "\n",
    "Origionally I thought adding more species as observations would help strengthen my training scores for my logistic regressions. As it turns out after 400 training examples my cross validation score levels off. What might help revisiting is feature engineering. Creating a stronger indicator might help to build a better performing model.\n",
    "\n",
    "In summary the final logistic regression model could be used in real time within the Pokedex but it could ue further tuning. With an accuracy of 98% and a F1 score of 80% (not exactly where I would like this measurement of accuracy to be). At the very least it would provide Pokemon trainers an additional resource to better ready themselves for the unknown world. "
   ]
  }
 ],
 "metadata": {
  "anaconda-cloud": {},
  "kernelspec": {
   "display_name": "Python [conda root]",
   "language": "python",
   "name": "conda-root-py"
  },
  "language_info": {
   "codemirror_mode": {
    "name": "ipython",
    "version": 2
   },
   "file_extension": ".py",
   "mimetype": "text/x-python",
   "name": "python",
   "nbconvert_exporter": "python",
   "pygments_lexer": "ipython2",
   "version": "2.7.12"
  }
 },
 "nbformat": 4,
 "nbformat_minor": 1
}
